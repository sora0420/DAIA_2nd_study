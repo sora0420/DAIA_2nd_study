{
 "cells": [
  {
   "cell_type": "markdown",
   "metadata": {},
   "source": [
    "TRAIN_DIR = './imageData' #이 디렉터리안에 있는 이름을 다 바꿈\n",
    "train_folder_list = array(os.listdir(TRAIN_DIR))\n",
    "\n",
    "train_input = []\n",
    "train_label = []\n",
    "label_encoder = Lablencoder() #folderlist를 가지고옴\n",
    "integer_encoded = label_encodr.fit_transform #integer 인코딩, 넘버링을 해줌 / 폴더개수가 2니까\n",
    "#image_path = image하나의\n",
    "#cv2.grayscale = 흑백으로\n",
    "#os.listdir(path) #이안에 있는걸 다 list화\n",
    "#np.array로 만듦\n",
    "#train_input = [0-9 , 10-19] >> 20, 10000(사진사이즈) / 100x100\n",
    "#print(train_input,reshape(20,100,100)) >>그래서 위에 한줄로 해도 상관x \n",
    "#logit = 확률 (사과, 바나나) >>더큰게 더 확률이 높음\n",
    "#오버핏팅 = 다 외워서 아는거면 말함 / 외운 데이터 이외에는 오답을 말할 확률이 높음\n",
    "#interpolation = 늘렸을때비는값을채움\n"
   ]
  },
  {
   "cell_type": "code",
   "execution_count": 2,
   "metadata": {
    "scrolled": true
   },
   "outputs": [],
   "source": [
    "#!pip install opencv-python"
   ]
  },
  {
   "cell_type": "code",
   "execution_count": 3,
   "metadata": {},
   "outputs": [],
   "source": [
    "import os\n",
    "import cv2\n",
    "import numpy as np\n",
    "from sklearn.preprocessing import LabelEncoder\n",
    "from sklearn.preprocessing import OneHotEncoder\n",
    "from numpy import array"
   ]
  },
  {
   "cell_type": "code",
   "execution_count": 4,
   "metadata": {},
   "outputs": [
    {
     "name": "stdout",
     "output_type": "stream",
     "text": [
      "(30, 10000)\n",
      "(30, 2)\n"
     ]
    }
   ],
   "source": [
    "TRAIN_DIR = './imageData/'\n",
    "train_folder_list = array(os.listdir(TRAIN_DIR))\n",
    " \n",
    "train_input = []\n",
    "train_label = []\n",
    " \n",
    "label_encoder = LabelEncoder()  # LabelEncoder Class 호출\n",
    "integer_encoded = label_encoder.fit_transform(train_folder_list)\n",
    "onehot_encoder = OneHotEncoder(sparse=False)\n",
    "integer_encoded = integer_encoded.reshape(len(integer_encoded), 1)\n",
    "onehot_encoded = onehot_encoder.fit_transform(integer_encoded)\n",
    "\n",
    "for index in range(len(train_folder_list)):\n",
    "    path = os.path.join(TRAIN_DIR, train_folder_list[index])\n",
    "    path = path + '/'\n",
    "    img_list = os.listdir(path)\n",
    "    for img in img_list:\n",
    "        img_path = os.path.join(path, img)\n",
    "        img = cv2.imread(img_path, cv2.IMREAD_GRAYSCALE)\n",
    "        train_input.append([np.array(img)])\n",
    "        train_label.append([np.array(onehot_encoded[index])])\n",
    "        \n",
    "train_input = np.reshape(train_input, (-1, 10000))\n",
    "train_label = np.reshape(train_label, (-1, 2))\n",
    "train_input = np.array(train_input).astype(np.float32)\n",
    "train_label = np.array(train_label).astype(np.float32)\n",
    "\n",
    "print(train_input.shape)\n",
    "print(train_label.shape)\n",
    "\n",
    "np.save(\"train_data.npy\", train_input)\n",
    "np.save(\"train_label.npy\", train_label)"
   ]
  },
  {
   "cell_type": "code",
   "execution_count": 5,
   "metadata": {
    "scrolled": true
   },
   "outputs": [
    {
     "name": "stdout",
     "output_type": "stream",
     "text": [
      "(100, 100)\n"
     ]
    },
    {
     "data": {
      "text/plain": [
       "<Figure size 640x480 with 1 Axes>"
      ]
     },
     "metadata": {},
     "output_type": "display_data"
    }
   ],
   "source": [
    "import matplotlib.pyplot as plt\n",
    "sample = train_input[0].reshape(100, 100)\n",
    "print(sample.shape)\n",
    "plt.imshow(sample, cmap='gray')\n",
    "plt.show()"
   ]
  },
  {
   "cell_type": "code",
   "execution_count": 6,
   "metadata": {
    "scrolled": true
   },
   "outputs": [],
   "source": [
    "#!pip install tensorflow"
   ]
  },
  {
   "cell_type": "code",
   "execution_count": 7,
   "metadata": {},
   "outputs": [
    {
     "name": "stderr",
     "output_type": "stream",
     "text": [
      "C:\\Users\\haedal\\Anaconda3\\lib\\site-packages\\h5py\\__init__.py:36: FutureWarning: Conversion of the second argument of issubdtype from `float` to `np.floating` is deprecated. In future, it will be treated as `np.float64 == np.dtype(float).type`.\n",
      "  from ._conv import register_converters as _register_converters\n"
     ]
    }
   ],
   "source": [
    "import tensorflow as tf"
   ]
  },
  {
   "cell_type": "code",
   "execution_count": 8,
   "metadata": {},
   "outputs": [
    {
     "name": "stdout",
     "output_type": "stream",
     "text": [
      "WARNING:tensorflow:From <ipython-input-8-c54d9a982476>:26: softmax_cross_entropy_with_logits (from tensorflow.python.ops.nn_ops) is deprecated and will be removed in a future version.\n",
      "Instructions for updating:\n",
      "\n",
      "Future major versions of TensorFlow will allow gradients to flow\n",
      "into the labels input on backprop by default.\n",
      "\n",
      "See @{tf.nn.softmax_cross_entropy_with_logits_v2}.\n",
      "\n",
      "Epoch: 0001 cost = 43.616686487\n",
      "Epoch: 0002 cost = 27.644855538\n",
      "Epoch: 0003 cost = 0.913828626\n",
      "Epoch: 0004 cost = 10.802201365\n",
      "Epoch: 0005 cost = 2.080060588\n",
      "Epoch: 0006 cost = 0.819879462\n",
      "Epoch: 0007 cost = 0.825783445\n",
      "Epoch: 0008 cost = 0.689528477\n",
      "Epoch: 0009 cost = 8.447587843\n",
      "Epoch: 0010 cost = 0.807601835\n",
      "Epoch: 0011 cost = 19.194414056\n",
      "Epoch: 0012 cost = 0.796992125\n",
      "Epoch: 0013 cost = 0.764726661\n",
      "Epoch: 0014 cost = 1.671774391\n",
      "Epoch: 0015 cost = 0.798424748\n",
      "Epoch: 0016 cost = 0.792772145\n",
      "Epoch: 0017 cost = 0.786783894\n",
      "Epoch: 0018 cost = 0.786097477\n",
      "Epoch: 0019 cost = 0.779727378\n",
      "Epoch: 0020 cost = 0.780838265\n",
      "Epoch: 0021 cost = 0.773651447\n",
      "Epoch: 0022 cost = 0.776448196\n",
      "Epoch: 0023 cost = 0.755848203\n",
      "Epoch: 0024 cost = 0.762572134\n",
      "Epoch: 0025 cost = 0.745249091\n",
      "Epoch: 0026 cost = 0.667603404\n",
      "Epoch: 0027 cost = 0.662385020\n",
      "Epoch: 0028 cost = 0.495150888\n",
      "Epoch: 0029 cost = 0.424131216\n",
      "Epoch: 0030 cost = 0.504383572\n",
      "Learning Finished!\n"
     ]
    }
   ],
   "source": [
    "# hyper parameters\n",
    "learning_rate = 0.001\n",
    " \n",
    "# input place holders\n",
    "X = tf.placeholder(tf.float32, [None, 10000])\n",
    "X_img = tf.reshape(X, [-1, 100, 100, 1])   # img 28x28x1 (black/white)\n",
    "Y = tf.placeholder(tf.float32, [None, 2])\n",
    " \n",
    "W1 = tf.Variable(tf.random_normal([3, 3, 1, 32], stddev=0.01))\n",
    "L1 = tf.nn.conv2d(X_img, W1, strides=[1, 1, 1, 1], padding='SAME')\n",
    "L1 = tf.nn.relu(L1)\n",
    "L1 = tf.nn.max_pool(L1, ksize=[1, 2, 2, 1], strides=[1, 2, 2, 1], padding='SAME')\n",
    " \n",
    "W2 = tf.Variable(tf.random_normal([3, 3, 32, 64], stddev=0.01))\n",
    "L2 = tf.nn.conv2d(L1, W2, strides=[1, 1, 1, 1], padding='SAME')\n",
    "L2 = tf.nn.relu(L2)\n",
    "L2 = tf.nn.max_pool(L2, ksize=[1, 2, 2, 1], strides=[1, 2, 2, 1], padding='SAME')\n",
    "\n",
    "L2_flat = tf.reshape(L2, [-1, 25 * 25 * 64])\n",
    "W3 = tf.get_variable(\"W3\", shape=[25 * 25 * 64, 2], initializer=tf.contrib.layers.xavier_initializer())\n",
    "b = tf.Variable(tf.random_normal([2]))\n",
    "logits = tf.matmul(L2_flat, W3) + b\n",
    " \n",
    "# define cost/loss &amp;amp;amp; optimizer\n",
    "cost = tf.reduce_mean(tf.nn.softmax_cross_entropy_with_logits(\n",
    "    logits=logits, labels=Y))\n",
    "optimizer = tf.train.AdamOptimizer(learning_rate=learning_rate).minimize(cost)\n",
    " \n",
    "training_epochs = 30\n",
    "batch_size = 1\n",
    " \n",
    "# initialize\n",
    "sess = tf.Session()\n",
    "sess.run(tf.global_variables_initializer())\n",
    " \n",
    "# train my model\n",
    "for epoch in range(training_epochs):\n",
    "    avg_cost = 0\n",
    "    total_batch = int(len(train_input) / batch_size)\n",
    " \n",
    "    for i in range(total_batch):\n",
    "        start = ((i + 1) * batch_size) - batch_size\n",
    "        end = ((i + 1) * batch_size)\n",
    "        batch_xs = train_input[start:end]\n",
    "        batch_ys = train_label[start:end]\n",
    "        feed_dict = {X: batch_xs, Y: batch_ys}\n",
    "        c, _ = sess.run([cost, optimizer], feed_dict=feed_dict)\n",
    "        avg_cost += c / total_batch\n",
    " \n",
    "    print('Epoch:', '%04d' % (epoch + 1), 'cost =', '{:.9f}'.format(avg_cost))\n",
    " \n",
    "print('Learning Finished!')"
   ]
  },
  {
   "cell_type": "code",
   "execution_count": 16,
   "metadata": {},
   "outputs": [
    {
     "data": {
      "image/png": "[encoded data removed]",
      "text/plain": [
       "<Figure size 432x288 with 1 Axes>"
      ]
     },
     "metadata": {},
     "output_type": "display_data"
    },
    {
     "name": "stdout",
     "output_type": "stream",
     "text": [
      "[[1.1379724 1.8971891]]\n",
      "banana\n"
     ]
    }
   ],
   "source": [
    "test_input = train_input[23]\n",
    "\n",
    "plt.imshow(test_input.reshape(100,100), cmap='gray')\n",
    "plt.show()\n",
    "\n",
    "logit = sess.run(logits, feed_dict={X: [test_input]})\n",
    "\n",
    "print(logit)\n",
    "if logit[0,0] > logit[0,1]:\n",
    "    print(\"apple\")\n",
    "else:\n",
    "    print(\"banana\")"
   ]
  },
  {
   "cell_type": "code",
   "execution_count": null,
   "metadata": {},
   "outputs": [],
   "source": []
  },
  {
   "cell_type": "code",
   "execution_count": null,
   "metadata": {},
   "outputs": [],
   "source": []
  },
  {
   "cell_type": "code",
   "execution_count": null,
   "metadata": {},
   "outputs": [],
   "source": []
  },
  {
   "cell_type": "code",
   "execution_count": null,
   "metadata": {},
   "outputs": [],
   "source": []
  }
 ],
 "metadata": {
  "kernelspec": {
   "display_name": "Python 3",
   "language": "python",
   "name": "python3"
  },
  "language_info": {
   "codemirror_mode": {
    "name": "ipython",
    "version": 3
   },
   "file_extension": ".py",
   "mimetype": "text/x-python",
   "name": "python",
   "nbconvert_exporter": "python",
   "pygments_lexer": "ipython3",
   "version": "3.6.5"
  }
 },
 "nbformat": 4,
 "nbformat_minor": 2
}
