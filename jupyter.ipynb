{
 "cells": [
  {
   "cell_type": "code",
   "execution_count": 6,
   "metadata": {},
   "outputs": [],
   "source": [
    "import numpy as np"
   ]
  },
  {
   "cell_type": "code",
   "execution_count": null,
   "metadata": {},
   "outputs": [],
   "source": [
    "a = np.array([[1,2,3,4],\n",
    "              [5,6,7,8],\n",
    "              [9,10,11,12]])"
   ]
  },
  {
   "cell_type": "code",
   "execution_count": 8,
   "metadata": {},
   "outputs": [
    {
     "data": {
      "text/plain": [
       "numpy.ndarray"
      ]
     },
     "execution_count": 8,
     "metadata": {},
     "output_type": "execute_result"
    }
   ],
   "source": [
    "type(a)"
   ]
  },
  {
   "cell_type": "code",
   "execution_count": 9,
   "metadata": {},
   "outputs": [
    {
     "name": "stdout",
     "output_type": "stream",
     "text": [
      "6\n",
      "4\n"
     ]
    }
   ],
   "source": [
    "print(a[1,1])\n",
    "print(a[0,3])"
   ]
  },
  {
   "cell_type": "code",
   "execution_count": 10,
   "metadata": {},
   "outputs": [
    {
     "name": "stdout",
     "output_type": "stream",
     "text": [
      "4\n"
     ]
    }
   ],
   "source": [
    "a.shape\n",
    "b = np.array([[1,2,3],[4,5,9],[6,7,8]])\n",
    "print(b[1,0])"
   ]
  },
  {
   "cell_type": "code",
   "execution_count": 11,
   "metadata": {},
   "outputs": [
    {
     "data": {
      "text/plain": [
       "(3, 4)"
      ]
     },
     "execution_count": 11,
     "metadata": {},
     "output_type": "execute_result"
    }
   ],
   "source": [
    "np.shape(a)"
   ]
  },
  {
   "cell_type": "code",
   "execution_count": 12,
   "metadata": {},
   "outputs": [
    {
     "name": "stdout",
     "output_type": "stream",
     "text": [
      "[[[0. 0. 0.]\n",
      "  [0. 0. 0.]\n",
      "  [0. 0. 0.]\n",
      "  [0. 0. 0.]]\n",
      "\n",
      " [[0. 0. 0.]\n",
      "  [0. 0. 0.]\n",
      "  [0. 0. 0.]\n",
      "  [0. 0. 0.]]]\n",
      "\n",
      "[[[0. 0. 0.]\n",
      "  [0. 0. 0.]]]\n"
     ]
    }
   ],
   "source": [
    "x = np.zeros((2,4,3))\n",
    "print(x)\n",
    "print()\n",
    "i = np.zeros((1,2,3))\n",
    "print(i)"
   ]
  },
  {
   "cell_type": "code",
   "execution_count": 13,
   "metadata": {},
   "outputs": [],
   "source": [
    "x = np.ones((3,4))\n",
    "i = np.ones((2,2,3))"
   ]
  },
  {
   "cell_type": "code",
   "execution_count": 14,
   "metadata": {},
   "outputs": [
    {
     "name": "stdout",
     "output_type": "stream",
     "text": [
      "[[1. 1. 1. 1.]\n",
      " [1. 1. 1. 1.]\n",
      " [1. 1. 1. 1.]]\n",
      "\n",
      "[[[1. 1. 1.]\n",
      "  [1. 1. 1.]]\n",
      "\n",
      " [[1. 1. 1.]\n",
      "  [1. 1. 1.]]]\n"
     ]
    }
   ],
   "source": [
    "print(x)\n",
    "print()\n",
    "print(i)"
   ]
  },
  {
   "cell_type": "code",
   "execution_count": 15,
   "metadata": {},
   "outputs": [],
   "source": [
    "y = np.empty_like(x)\n",
    "z = np.empty_like(i)"
   ]
  },
  {
   "cell_type": "code",
   "execution_count": 16,
   "metadata": {},
   "outputs": [
    {
     "name": "stdout",
     "output_type": "stream",
     "text": [
      "[[1. 1. 1. 1.]\n",
      " [1. 1. 1. 1.]\n",
      " [1. 1. 1. 1.]]\n",
      "\n",
      "[[[1. 1. 1.]\n",
      "  [1. 1. 1.]]\n",
      "\n",
      " [[1. 1. 1.]\n",
      "  [1. 1. 1.]]]\n"
     ]
    }
   ],
   "source": [
    "print(y)\n",
    "print()\n",
    "print(z)\n"
   ]
  },
  {
   "cell_type": "code",
   "execution_count": 17,
   "metadata": {},
   "outputs": [
    {
     "data": {
      "text/plain": [
       "array([ 1,  4,  7, 10, 13, 16, 19])"
      ]
     },
     "execution_count": 17,
     "metadata": {},
     "output_type": "execute_result"
    }
   ],
   "source": [
    "b = np.array(range(1,10,2))\n",
    "b\n",
    "c = np.array(range(1,20,3))\n",
    "c"
   ]
  },
  {
   "cell_type": "code",
   "execution_count": 18,
   "metadata": {},
   "outputs": [
    {
     "data": {
      "text/plain": [
       "array([['y', 'y', 'y'],\n",
       "       ['y', 'y', 'y']], dtype='<U1')"
      ]
     },
     "execution_count": 18,
     "metadata": {},
     "output_type": "execute_result"
    }
   ],
   "source": [
    "x = np.full((2,3), 'y') #초기화 하고 싶은 값 넣기\n",
    "x"
   ]
  },
  {
   "cell_type": "code",
   "execution_count": 19,
   "metadata": {},
   "outputs": [
    {
     "data": {
      "text/plain": [
       "array([['o', 'o']], dtype='<U1')"
      ]
     },
     "execution_count": 19,
     "metadata": {},
     "output_type": "execute_result"
    }
   ],
   "source": [
    "y = np.full((1,2),'o')\n",
    "y"
   ]
  },
  {
   "cell_type": "code",
   "execution_count": 20,
   "metadata": {},
   "outputs": [],
   "source": [
    "a = np.array([[1,2,3,4],\n",
    "              [5,6,7,8],\n",
    "              [9,10,11,12]])"
   ]
  },
  {
   "cell_type": "code",
   "execution_count": 21,
   "metadata": {
    "scrolled": true
   },
   "outputs": [
    {
     "name": "stdout",
     "output_type": "stream",
     "text": [
      "[[2 3]\n",
      " [6 7]]\n"
     ]
    }
   ],
   "source": [
    "b = a[:2, 1:3]\n",
    "print(b)"
   ]
  },
  {
   "cell_type": "code",
   "execution_count": 22,
   "metadata": {},
   "outputs": [
    {
     "name": "stdout",
     "output_type": "stream",
     "text": [
      "[[11 12]]\n"
     ]
    }
   ],
   "source": [
    "b = a[2:, 2:]\n",
    "print(b)"
   ]
  },
  {
   "cell_type": "code",
   "execution_count": 23,
   "metadata": {},
   "outputs": [
    {
     "ename": "IndexError",
     "evalue": "index 1 is out of bounds for axis 0 with size 1",
     "traceback": [
      "\u001b[1;31m---------------------------------------------------------------------------\u001b[0m",
      "\u001b[1;31mIndexError\u001b[0m                                Traceback (most recent call last)",
      "\u001b[1;32m<ipython-input-23-635fcf398c6f>\u001b[0m in \u001b[0;36m<module>\u001b[1;34m()\u001b[0m\n\u001b[1;32m----> 1\u001b[1;33m \u001b[0mb\u001b[0m\u001b[1;33m[\u001b[0m\u001b[1;36m1\u001b[0m\u001b[1;33m,\u001b[0m\u001b[1;36m1\u001b[0m\u001b[1;33m]\u001b[0m \u001b[1;33m=\u001b[0m \u001b[1;36m70\u001b[0m\u001b[1;33m\u001b[0m\u001b[0m\n\u001b[0m\u001b[0;32m      2\u001b[0m \u001b[0mb\u001b[0m\u001b[1;33m\u001b[0m\u001b[0m\n",
      "\u001b[1;31mIndexError\u001b[0m: index 1 is out of bounds for axis 0 with size 1"
     ],
     "output_type": "error"
    }
   ],
   "source": [
    "b[1,1] = 70\n",
    "b"
   ]
  },
  {
   "cell_type": "code",
   "execution_count": 33,
   "metadata": {},
   "outputs": [
    {
     "data": {
      "text/plain": [
       "array([[ 1,  2,  3,  4],\n",
       "       [ 5,  6,  7,  8],\n",
       "       [ 9, 10, 11, 12]])"
      ]
     },
     "execution_count": 33,
     "metadata": {},
     "output_type": "execute_result"
    }
   ],
   "source": [
    "a #위에서 b에 넣고 값을 바꿨지만 원래 참조하던 값도 바뀜 / 주의"
   ]
  },
  {
   "cell_type": "code",
   "execution_count": 34,
   "metadata": {},
   "outputs": [
    {
     "name": "stdout",
     "output_type": "stream",
     "text": [
      "[0 2 4 6]\n",
      "[8 9]\n",
      "[7 6 5 4]\n",
      "[9 8 7 6 5 4 3 2 1 0]\n",
      "[2 3]\n",
      "[5 6 7 8 9]\n",
      "[7 5 3 1]\n"
     ]
    }
   ],
   "source": [
    "c = np.array([0,1,2,3,4,5,6,7,8,9])\n",
    "print(c[0:8:2])\n",
    "print(c[-2:10])\n",
    "print(c[-3:3:-1]) #반대로 감\n",
    "print(c[::-1])\n",
    "print(c[2:4:1])\n",
    "print(c[-5:])\n",
    "print(c[-3:0:-2])"
   ]
  },
  {
   "cell_type": "code",
   "execution_count": 35,
   "metadata": {},
   "outputs": [
    {
     "name": "stdout",
     "output_type": "stream",
     "text": [
      "[5 6 7 8] (4,)\n",
      "[[5 6 7 8]] (1, 4)\n"
     ]
    }
   ],
   "source": [
    "c = a[1,:] #첫번째의 전체 / 인덱싱\n",
    "d = a[1:2, :] #슬라이싱\n",
    "print(c, c.shape) #1차원 ------ 모양확인 / shape끼리 맞아야함\n",
    "print(d, d.shape) #2차원  |\n",
    "                  #      |"
   ]
  },
  {
   "cell_type": "code",
   "execution_count": 36,
   "metadata": {},
   "outputs": [
    {
     "name": "stdout",
     "output_type": "stream",
     "text": [
      "[[ 1  4]\n",
      " [ 9 12]]\n"
     ]
    }
   ],
   "source": [
    "a = np.array([[1,2,3,4], \n",
    "              [5,6,7,8],\n",
    "              [9,10,11,12]])\n",
    "row = [[0,0],\n",
    "      [2,2]]\n",
    "\n",
    "columns = [[0,3],\n",
    "          [0,3]]\n",
    "\n",
    "print(a[row, columns]) #(0,0) (0,3) 차원이 같아야함 2x2 matrix\n",
    "                       #(2,0) (2,3)\n",
    "    #아 2x2 저 모양대로 보면 됨\n",
    "    # 1 2\n",
    "    # 3 4 라고 하면 1,1 2,2 3,3 4,4"
   ]
  },
  {
   "cell_type": "code",
   "execution_count": 37,
   "metadata": {
    "scrolled": true
   },
   "outputs": [
    {
     "name": "stdout",
     "output_type": "stream",
     "text": [
      "[[ 2  1  8]\n",
      " [ 1  3  4]\n",
      " [10  9 12]]\n"
     ]
    }
   ],
   "source": [
    "a = np.array([[1,2,3,4],\n",
    "              [5,6,7,8],\n",
    "              [9,10,11,12]])\n",
    "row = [[0,0,1],\n",
    "       [0,0,0],\n",
    "      [2,2,2]]\n",
    "\n",
    "columns = [[1,0,3],\n",
    "          [0,2,3],\n",
    "          [1,0,3]]\n",
    "\n",
    "print(a[row, columns]) "
   ]
  },
  {
   "cell_type": "code",
   "execution_count": 38,
   "metadata": {},
   "outputs": [
    {
     "data": {
      "text/plain": [
       "array([0, 2, 1])"
      ]
     },
     "execution_count": 38,
     "metadata": {},
     "output_type": "execute_result"
    }
   ],
   "source": [
    "b = np.array([0,2,1])\n",
    "b"
   ]
  },
  {
   "cell_type": "code",
   "execution_count": 39,
   "metadata": {},
   "outputs": [],
   "source": [
    "a = np.array([[1,2,3,4],\n",
    "              [5,6,7,8],\n",
    "              [9,10,11,12]])"
   ]
  },
  {
   "cell_type": "code",
   "execution_count": 40,
   "metadata": {},
   "outputs": [
    {
     "name": "stdout",
     "output_type": "stream",
     "text": [
      "[ 1  7 10]\n",
      "[ 1  7 10]\n",
      "[[ 1  2  3  4]\n",
      " [ 5  6  7  8]\n",
      " [ 9 10 11 12]]\n"
     ]
    }
   ],
   "source": [
    "print(a[np.arange(3),b])\n",
    "#np.arange(3)은 2까지, b는 0,2,1\n",
    "#0 1 2\n",
    "#0 2 1 >> 0,0 1,2 2,1 >> 1 7 10\n",
    "print(a[[0,1,2], b])\n",
    "c = a[[0,1,2], b]\n",
    "c[1] = 70\n",
    "c\n",
    "print(a) #여기는 안바뀜(인덱싱)"
   ]
  },
  {
   "cell_type": "code",
   "execution_count": 47,
   "metadata": {},
   "outputs": [
    {
     "name": "stdout",
     "output_type": "stream",
     "text": [
      "[[ 1  2  3  4]\n",
      " [ 5  6  7  8]\n",
      " [ 9 10 11 12]] \n",
      "\n",
      "bool_idx\n",
      " [[False False False  True]\n",
      " [ True  True  True  True]\n",
      " [ True  True  True  True]]\n",
      "a[bool_idx]\n",
      " [ 4  5  6  7  8  9 10 11 12]\n",
      "numpy\n",
      " [ 4  5  6  7  8  9 10 11 12]\n",
      "\n",
      "1번째\n",
      "4 5 6 7 8 9 10 11 12 \n",
      "\n",
      "2번째\n",
      "1\n",
      "2\n",
      "3\n",
      "4\n",
      "5\n",
      "6\n",
      "7\n",
      "8\n",
      "9\n",
      "10\n",
      "11\n",
      "12\n",
      "\n",
      "3번째\n",
      "[[False False False  True]\n",
      " [ True  True  True  True]\n",
      " [ True  True  True  True]]\n"
     ]
    }
   ],
   "source": [
    "bool_idx = (a>3) \n",
    "print(a,\"\\n\")\n",
    "print(\"bool_idx\\n\",bool_idx) #list로 접근하지 않으면 true, false가 나옴\n",
    "print(\"a[bool_idx]\\n\",a[bool_idx])\n",
    "print(\"numpy\\n\",a[a>3]) #이게 numpy를 쓰는 이유임\n",
    "\n",
    "print(\"\\n1번째\")\n",
    "for i in range(3):\n",
    "    for j in a[i]:\n",
    "        if j> 3:\n",
    "            print(j,end=\" \")\n",
    "            \n",
    "print(\"\\n\\n2번째\")\n",
    "for i in range(len(a)):\n",
    "    for j in range(len(a[i])):\n",
    "        print(a[i,j])\n",
    "        \n",
    "print(\"\\n3번째\")\n",
    "bool_index = np.zeros((3,4), dtype=np.bool)\n",
    "for i in range(len(a)):\n",
    "    for j in range(len(a[i])):\n",
    "        if a[i,j] <= 3:\n",
    "            bool_index[i,j]=False\n",
    "        else:\n",
    "            bool_index[i,j]=True\n",
    "print(bool_index)"
   ]
  },
  {
   "cell_type": "code",
   "execution_count": 48,
   "metadata": {},
   "outputs": [
    {
     "name": "stdout",
     "output_type": "stream",
     "text": [
      "[[ 6.  8.]\n",
      " [10. 12.]]\n",
      "[[ 6.  8.]\n",
      " [10. 12.]]\n",
      "[[-4. -4.]\n",
      " [-4. -4.]]\n",
      "[[-4. -4.]\n",
      " [-4. -4.]]\n",
      "[[ 5. 12.]\n",
      " [21. 32.]]\n",
      "[[ 5. 12.]\n",
      " [21. 32.]]\n",
      "[[0.2        0.33333333]\n",
      " [0.42857143 0.5       ]]\n",
      "[[0.2        0.33333333]\n",
      " [0.42857143 0.5       ]]\n"
     ]
    },
    {
     "data": {
      "text/plain": [
       "dtype('float32')"
      ]
     },
     "execution_count": 48,
     "metadata": {},
     "output_type": "execute_result"
    }
   ],
   "source": [
    "x = np.array([[1,2],\n",
    "              [3,4]], dtype = np.int32)\n",
    "y = np.array([[5,6],\n",
    "              [7,8]], dtype = np.float32)\n",
    "print( x + y)\n",
    "print(np.add(x,y))\n",
    "print( x - y)\n",
    "print(np.subtract(x,y))\n",
    "print( x * y)\n",
    "print(np.multiply(x,y))\n",
    "print( x / y)\n",
    "print(np.divide(x,y))\n",
    "x.dtype\n",
    "y.dtype\n",
    "#dtype은 데이터타입 확인"
   ]
  },
  {
   "cell_type": "code",
   "execution_count": 49,
   "metadata": {},
   "outputs": [
    {
     "name": "stdout",
     "output_type": "stream",
     "text": [
      "[[19. 22.]\n",
      " [43. 50.]]\n",
      "[[23. 34.]\n",
      " [31. 46.]]\n",
      "[[19. 22.]\n",
      " [43. 50.]]\n",
      "[[23. 34.]\n",
      " [31. 46.]]\n",
      "[[19. 22.]\n",
      " [43. 50.]]\n",
      "[[23. 34.]\n",
      " [31. 46.]]\n"
     ]
    }
   ],
   "source": [
    "print(x.dot(y))\n",
    "print(y.dot(x))\n",
    "print(np.dot(x,y))\n",
    "print(np.dot(y,x))\n",
    "print(x@y) #내적, inner, dot product\n",
    "print(y@x)"
   ]
  },
  {
   "cell_type": "code",
   "execution_count": 50,
   "metadata": {},
   "outputs": [
    {
     "name": "stdout",
     "output_type": "stream",
     "text": [
      "10\n",
      "[4 6]\n",
      "[3 7]\n"
     ]
    }
   ],
   "source": [
    "x = np.array([[1,2],\n",
    "              [3,4]])\n",
    "print(np.sum(x))\n",
    "print(np.sum(x, axis=0)) #축 설정 가능 0= -| |끼리 더함\n",
    "print(np.sum(x, axis=1)) # 1 = - -끼리 더함 "
   ]
  },
  {
   "cell_type": "code",
   "execution_count": 52,
   "metadata": {},
   "outputs": [
    {
     "name": "stdout",
     "output_type": "stream",
     "text": [
      "36\n",
      "[[ 6  8]\n",
      " [10 12]]\n",
      "[[ 4  6]\n",
      " [12 14]]\n",
      "[[ 3  7]\n",
      " [11 15]]\n"
     ]
    }
   ],
   "source": [
    "x = np.array([[[1,2],\n",
    "              [3,4]],\n",
    "             [[5,6],\n",
    "             [7,8]]]) #2,2,2\n",
    "print(np.sum(x))\n",
    "print(np.sum(x, axis=0)) # [] []\n",
    "print(np.sum(x, axis=1)) # | |\n",
    "print(np.sum(x, axis=2)) # - -"
   ]
  },
  {
   "cell_type": "code",
   "execution_count": 25,
   "metadata": {},
   "outputs": [
    {
     "name": "stdout",
     "output_type": "stream",
     "text": [
      "[[1 2 3]\n",
      " [4 5 6]] (2, 3)\n",
      "\n",
      "[[1 4]\n",
      " [2 5]\n",
      " [3 6]] (3, 2)\n"
     ]
    }
   ],
   "source": [
    "\n",
    "#transpose 전치\n",
    "x = np.array([[1,2,3],\n",
    "              [4,5,6]])\n",
    "print(x, x.shape)\n",
    "print()\n",
    "y = x.T\n",
    "print(y,y.shape) #shape은 모양"
   ]
  },
  {
   "cell_type": "code",
   "execution_count": 28,
   "metadata": {
    "scrolled": false
   },
   "outputs": [
    {
     "name": "stdout",
     "output_type": "stream",
     "text": [
      "[[2 5]\n",
      " [3 6]\n",
      " [4 7]]\n",
      "[[2 5]\n",
      " [3 6]\n",
      " [4 7]]\n",
      "[[2 5]\n",
      " [3 6]\n",
      " [4 7]]\n"
     ]
    }
   ],
   "source": [
    "z = np.array([[2,3,4],[5,6,7]])\n",
    "print(z.T)\n",
    "print(z.T)\n",
    "n = z.T\n",
    "print(n)"
   ]
  },
  {
   "cell_type": "code",
   "execution_count": 30,
   "metadata": {},
   "outputs": [
    {
     "name": "stdout",
     "output_type": "stream",
     "text": [
      "\n",
      "(4, 3)\n",
      "(3,)\n",
      "\n",
      "[[ 2  2  4]\n",
      " [ 5  5  7]\n",
      " [ 8  8 10]\n",
      " [11 11 13]]\n"
     ]
    }
   ],
   "source": [
    "x = np.array([[1,2,3],\n",
    "              [4,5,6],\n",
    "              [7,8,9],\n",
    "              [10,11,12]])\n",
    "v = np.array([1,0,1])\n",
    "print()\n",
    "print(x.shape)\n",
    "print(v.shape)\n",
    "print()\n",
    "y = x + v\n",
    "print(y) #넘파이의 브로드 캐스팅"
   ]
  },
  {
   "cell_type": "code",
   "execution_count": 65,
   "metadata": {},
   "outputs": [
    {
     "data": {
      "text/plain": [
       "array([[1., 0., 0., 0., 0.],\n",
       "       [0., 1., 0., 0., 0.],\n",
       "       [0., 0., 1., 0., 0.],\n",
       "       [0., 0., 0., 1., 0.],\n",
       "       [0., 0., 0., 0., 1.]])"
      ]
     },
     "execution_count": 65,
     "metadata": {},
     "output_type": "execute_result"
    }
   ],
   "source": [
    "x = np.array([0,4,3,2,4,0,2,2,1]) #경우의 수 5개 / 원핫인코딩\n",
    "i = np.eye(5)\n",
    "i"
   ]
  },
  {
   "cell_type": "code",
   "execution_count": 66,
   "metadata": {
    "scrolled": true
   },
   "outputs": [
    {
     "data": {
      "text/plain": [
       "array([[1., 0., 0., 0., 0.],\n",
       "       [0., 0., 0., 0., 1.],\n",
       "       [0., 0., 0., 1., 0.],\n",
       "       [0., 0., 1., 0., 0.],\n",
       "       [0., 0., 0., 0., 1.],\n",
       "       [1., 0., 0., 0., 0.],\n",
       "       [0., 0., 1., 0., 0.],\n",
       "       [0., 0., 1., 0., 0.],\n",
       "       [0., 1., 0., 0., 0.]])"
      ]
     },
     "execution_count": 66,
     "metadata": {},
     "output_type": "execute_result"
    }
   ],
   "source": [
    "i #단위행렬\n",
    "ix = i[x] #x로 다시 인덱싱 / 0,4,3,2 ....이런식으로\n",
    "ix"
   ]
  },
  {
   "cell_type": "code",
   "execution_count": 69,
   "metadata": {
    "scrolled": true
   },
   "outputs": [
    {
     "data": {
      "text/plain": [
       "array([[1., 0., 0., 0., 0., 0., 0., 0.],\n",
       "       [0., 1., 0., 0., 0., 0., 0., 0.],\n",
       "       [0., 0., 0., 0., 1., 0., 0., 0.],\n",
       "       [0., 1., 0., 0., 0., 0., 0., 0.],\n",
       "       [0., 0., 1., 0., 0., 0., 0., 0.],\n",
       "       [0., 0., 0., 0., 1., 0., 0., 0.],\n",
       "       [0., 0., 0., 0., 0., 0., 1., 0.],\n",
       "       [0., 0., 0., 0., 0., 0., 0., 1.]])"
      ]
     },
     "execution_count": 69,
     "metadata": {},
     "output_type": "execute_result"
    }
   ],
   "source": [
    "v = np.array([0,1,4,1,2,4,6,7]) #원핫인코딩 만들때 원소크기만큼 지정 (0~7 -> 8개)\n",
    "w = np.eye(8)\n",
    "w\n",
    "wv = w[v]\n",
    "wv"
   ]
  },
  {
   "cell_type": "code",
   "execution_count": 84,
   "metadata": {},
   "outputs": [
    {
     "name": "stdout",
     "output_type": "stream",
     "text": [
      "[0 1 2 3 4 5 6 7 8 9]\n",
      "(10,)\n"
     ]
    },
    {
     "data": {
      "text/plain": [
       "array([[0, 1, 2, 3, 4],\n",
       "       [5, 6, 7, 8, 9]])"
      ]
     },
     "execution_count": 84,
     "metadata": {},
     "output_type": "execute_result"
    }
   ],
   "source": [
    "x = np.arange(10)\n",
    "print(x)\n",
    "inputSize = 5;\n",
    "print(x.shape)\n",
    "x.reshape(-1, inputSize) #reshape괄호안에 있는대로 만들어라, -1은 개수가 무한정 있을때\n",
    "#x.reshape(2(5개씩 자르면 2개가되니까), inputSize) 위에랑 같음\n",
    "x.reshape(2,5)"
   ]
  },
  {
   "cell_type": "code",
   "execution_count": 88,
   "metadata": {
    "scrolled": true
   },
   "outputs": [
    {
     "data": {
      "text/plain": [
       "array([[  0,   1,   2],\n",
       "       [  3,   4,   5],\n",
       "       [  6,   7,   8],\n",
       "       [  9,  10,  11],\n",
       "       [ 12,  13,  14],\n",
       "       [ 15,  16,  17],\n",
       "       [ 18,  19,  20],\n",
       "       [ 21,  22,  23],\n",
       "       [ 24,  25,  26],\n",
       "       [ 27,  28,  29],\n",
       "       [ 30,  31,  32],\n",
       "       [ 33,  34,  35],\n",
       "       [ 36,  37,  38],\n",
       "       [ 39,  40,  41],\n",
       "       [ 42,  43,  44],\n",
       "       [ 45,  46,  47],\n",
       "       [ 48,  49,  50],\n",
       "       [ 51,  52,  53],\n",
       "       [ 54,  55,  56],\n",
       "       [ 57,  58,  59],\n",
       "       [ 60,  61,  62],\n",
       "       [ 63,  64,  65],\n",
       "       [ 66,  67,  68],\n",
       "       [ 69,  70,  71],\n",
       "       [ 72,  73,  74],\n",
       "       [ 75,  76,  77],\n",
       "       [ 78,  79,  80],\n",
       "       [ 81,  82,  83],\n",
       "       [ 84,  85,  86],\n",
       "       [ 87,  88,  89],\n",
       "       [ 90,  91,  92],\n",
       "       [ 93,  94,  95],\n",
       "       [ 96,  97,  98],\n",
       "       [ 99, 100, 101],\n",
       "       [102, 103, 104],\n",
       "       [105, 106, 107],\n",
       "       [108, 109, 110],\n",
       "       [111, 112, 113],\n",
       "       [114, 115, 116],\n",
       "       [117, 118, 119]])"
      ]
     },
     "execution_count": 88,
     "metadata": {},
     "output_type": "execute_result"
    }
   ],
   "source": [
    "y = np.arange(120) #몇개가 나올지 모를때 -1, 120은 맞춰줘야함\n",
    "y.reshape(-1,3)"
   ]
  },
  {
   "cell_type": "code",
   "execution_count": 94,
   "metadata": {
    "scrolled": false
   },
   "outputs": [
    {
     "name": "stdout",
     "output_type": "stream",
     "text": [
      "(2, 3, 2)\n",
      "(3, 2, 2)\n"
     ]
    },
    {
     "data": {
      "text/plain": [
       "array([[[1, 1],\n",
       "        [4, 4]],\n",
       "\n",
       "       [[2, 2],\n",
       "        [5, 5]],\n",
       "\n",
       "       [[3, 3],\n",
       "        [6, 6]]])"
      ]
     },
     "execution_count": 94,
     "metadata": {},
     "output_type": "execute_result"
    }
   ],
   "source": [
    "y = np.array([[[1, 4],\n",
    "              [2, 5],\n",
    "              [3, 6]],\n",
    "              [[1, 4],\n",
    "              [2, 5],\n",
    "              [3, 6]]])\n",
    "y = y.transpose(2,1,0) #0=2 / 1=3 / 2=2\n",
    "print(y.shape)\n",
    "y = y.transpose(1,0,2)\n",
    "print(y.shape)\n",
    "y"
   ]
  },
  {
   "cell_type": "code",
   "execution_count": 95,
   "metadata": {
    "scrolled": true
   },
   "outputs": [
    {
     "data": {
      "text/plain": [
       "[array([[[1, 1],\n",
       "         [4, 4]]]), array([[[2, 2],\n",
       "         [5, 5]]]), array([[[3, 3],\n",
       "         [6, 6]]])]"
      ]
     },
     "execution_count": 95,
     "metadata": {},
     "output_type": "execute_result"
    }
   ],
   "source": [
    "np.split(y,3, axis=0) #축따라서 split 현재0번째는 3"
   ]
  },
  {
   "cell_type": "code",
   "execution_count": 96,
   "metadata": {
    "scrolled": true
   },
   "outputs": [
    {
     "data": {
      "text/plain": [
       "[array([[[1, 1]],\n",
       " \n",
       "        [[2, 2]],\n",
       " \n",
       "        [[3, 3]]]), array([[[4, 4]],\n",
       " \n",
       "        [[5, 5]],\n",
       " \n",
       "        [[6, 6]]])]"
      ]
     },
     "execution_count": 96,
     "metadata": {},
     "output_type": "execute_result"
    }
   ],
   "source": [
    "np.split(y, 2, axis = 1)"
   ]
  },
  {
   "cell_type": "code",
   "execution_count": 103,
   "metadata": {},
   "outputs": [
    {
     "data": {
      "text/plain": [
       "[array([[[1],\n",
       "         [4]],\n",
       " \n",
       "        [[2],\n",
       "         [5]],\n",
       " \n",
       "        [[3],\n",
       "         [6]]]), array([[[1],\n",
       "         [4]],\n",
       " \n",
       "        [[2],\n",
       "         [5]],\n",
       " \n",
       "        [[3],\n",
       "         [6]]])]"
      ]
     },
     "execution_count": 103,
     "metadata": {},
     "output_type": "execute_result"
    }
   ],
   "source": [
    "np.split(y,2, axis=2)"
   ]
  },
  {
   "cell_type": "code",
   "execution_count": 104,
   "metadata": {},
   "outputs": [],
   "source": [
    "from pandas import Series, DataFrame #동일한 자료형의 집합\n",
    "import pandas as pd\n",
    "import numpy as np"
   ]
  },
  {
   "cell_type": "code",
   "execution_count": 132,
   "metadata": {},
   "outputs": [],
   "source": [
    "ser = Series([4,7,-5,3])"
   ]
  },
  {
   "cell_type": "code",
   "execution_count": 133,
   "metadata": {},
   "outputs": [
    {
     "data": {
      "text/plain": [
       "0    4\n",
       "1    7\n",
       "2   -5\n",
       "3    3\n",
       "dtype: int64"
      ]
     },
     "execution_count": 133,
     "metadata": {},
     "output_type": "execute_result"
    }
   ],
   "source": [
    "ser #하나의 데이터 타입만 가짐 / index와 values전체"
   ]
  },
  {
   "cell_type": "code",
   "execution_count": 134,
   "metadata": {},
   "outputs": [
    {
     "data": {
      "text/plain": [
       "array([ 4,  7, -5,  3], dtype=int64)"
      ]
     },
     "execution_count": 134,
     "metadata": {},
     "output_type": "execute_result"
    }
   ],
   "source": [
    "ser.values"
   ]
  },
  {
   "cell_type": "code",
   "execution_count": 135,
   "metadata": {
    "scrolled": true
   },
   "outputs": [
    {
     "data": {
      "text/plain": [
       "RangeIndex(start=0, stop=4, step=1)"
      ]
     },
     "execution_count": 135,
     "metadata": {},
     "output_type": "execute_result"
    }
   ],
   "source": [
    "ser.index"
   ]
  },
  {
   "cell_type": "code",
   "execution_count": 136,
   "metadata": {
    "scrolled": true
   },
   "outputs": [
    {
     "data": {
      "text/plain": [
       "0    4\n",
       "1    7\n",
       "2   -5\n",
       "3    3\n",
       "dtype: int64"
      ]
     },
     "execution_count": 136,
     "metadata": {},
     "output_type": "execute_result"
    }
   ],
   "source": [
    "index_list = ['a','b','c','d']\n",
    "#ser.index = index_list 위에랑 같음\n",
    "ser"
   ]
  },
  {
   "cell_type": "code",
   "execution_count": 138,
   "metadata": {},
   "outputs": [
    {
     "data": {
      "text/plain": [
       "a    4\n",
       "b    7\n",
       "c    5\n",
       "d    3\n",
       "dtype: int64"
      ]
     },
     "execution_count": 138,
     "metadata": {},
     "output_type": "execute_result"
    }
   ],
   "source": [
    "ser = Series([4,7,5,3], index = index_list)\n",
    "ser"
   ]
  },
  {
   "cell_type": "code",
   "execution_count": 142,
   "metadata": {},
   "outputs": [
    {
     "name": "stdout",
     "output_type": "stream",
     "text": [
      "a    4\n",
      "b    7\n",
      "c    5\n",
      "dtype: int64\n",
      "Series([], dtype: int64)\n",
      "a    4\n",
      "b    7\n",
      "c    5\n",
      "dtype: int64\n"
     ]
    }
   ],
   "source": [
    "print(ser[ser>3])\n",
    "print(ser[ser==1])\n",
    "print(ser[ser>=4])"
   ]
  },
  {
   "cell_type": "code",
   "execution_count": 143,
   "metadata": {},
   "outputs": [
    {
     "data": {
      "text/plain": [
       "a    False\n",
       "b    False\n",
       "c    False\n",
       "d    False\n",
       "dtype: bool"
      ]
     },
     "execution_count": 143,
     "metadata": {},
     "output_type": "execute_result"
    }
   ],
   "source": [
    "pd.isnull(ser)"
   ]
  },
  {
   "cell_type": "code",
   "execution_count": 144,
   "metadata": {},
   "outputs": [
    {
     "data": {
      "text/plain": [
       "a    True\n",
       "b    True\n",
       "c    True\n",
       "d    True\n",
       "dtype: bool"
      ]
     },
     "execution_count": 144,
     "metadata": {},
     "output_type": "execute_result"
    }
   ],
   "source": [
    "pd.notnull(ser)"
   ]
  },
  {
   "cell_type": "code",
   "execution_count": 148,
   "metadata": {},
   "outputs": [
    {
     "data": {
      "text/html": [
       "<div>\n",
       "<style scoped>\n",
       "    .dataframe tbody tr th:only-of-type {\n",
       "        vertical-align: middle;\n",
       "    }\n",
       "\n",
       "    .dataframe tbody tr th {\n",
       "        vertical-align: top;\n",
       "    }\n",
       "\n",
       "    .dataframe thead th {\n",
       "        text-align: right;\n",
       "    }\n",
       "</style>\n",
       "<table border=\"1\" class=\"dataframe\">\n",
       "  <thead>\n",
       "    <tr style=\"text-align: right;\">\n",
       "      <th></th>\n",
       "      <th>state</th>\n",
       "      <th>year</th>\n",
       "      <th>pop</th>\n",
       "    </tr>\n",
       "  </thead>\n",
       "  <tbody>\n",
       "    <tr>\n",
       "      <th>0</th>\n",
       "      <td>Ohio</td>\n",
       "      <td>2000</td>\n",
       "      <td>1.5</td>\n",
       "    </tr>\n",
       "    <tr>\n",
       "      <th>1</th>\n",
       "      <td>Ohio</td>\n",
       "      <td>2001</td>\n",
       "      <td>1.7</td>\n",
       "    </tr>\n",
       "    <tr>\n",
       "      <th>2</th>\n",
       "      <td>Ohio</td>\n",
       "      <td>2002</td>\n",
       "      <td>3.6</td>\n",
       "    </tr>\n",
       "    <tr>\n",
       "      <th>3</th>\n",
       "      <td>Nevada</td>\n",
       "      <td>2001</td>\n",
       "      <td>2.4</td>\n",
       "    </tr>\n",
       "    <tr>\n",
       "      <th>4</th>\n",
       "      <td>Nevada</td>\n",
       "      <td>2002</td>\n",
       "      <td>2.9</td>\n",
       "    </tr>\n",
       "  </tbody>\n",
       "</table>\n",
       "</div>"
      ],
      "text/plain": [
       "    state  year  pop\n",
       "0    Ohio  2000  1.5\n",
       "1    Ohio  2001  1.7\n",
       "2    Ohio  2002  3.6\n",
       "3  Nevada  2001  2.4\n",
       "4  Nevada  2002  2.9"
      ]
     },
     "execution_count": 148,
     "metadata": {},
     "output_type": "execute_result"
    }
   ],
   "source": [
    "data = {'state':['Ohio','Ohio','Ohio','Nevada','Nevada'],\n",
    "        'year':[2000,2001,2002,2001,2002],\n",
    "        'pop':[1.5,1.7,3.6,2.4,2.9]\n",
    "       }\n",
    "df = DataFrame(data)\n",
    "df"
   ]
  },
  {
   "cell_type": "code",
   "execution_count": 153,
   "metadata": {},
   "outputs": [
    {
     "data": {
      "text/html": [
       "<div>\n",
       "<style scoped>\n",
       "    .dataframe tbody tr th:only-of-type {\n",
       "        vertical-align: middle;\n",
       "    }\n",
       "\n",
       "    .dataframe tbody tr th {\n",
       "        vertical-align: top;\n",
       "    }\n",
       "\n",
       "    .dataframe thead th {\n",
       "        text-align: right;\n",
       "    }\n",
       "</style>\n",
       "<table border=\"1\" class=\"dataframe\">\n",
       "  <thead>\n",
       "    <tr style=\"text-align: right;\">\n",
       "      <th></th>\n",
       "      <th>pop</th>\n",
       "      <th>year</th>\n",
       "      <th>state</th>\n",
       "    </tr>\n",
       "  </thead>\n",
       "  <tbody>\n",
       "    <tr>\n",
       "      <th>0</th>\n",
       "      <td>1.5</td>\n",
       "      <td>2000</td>\n",
       "      <td>Ohio</td>\n",
       "    </tr>\n",
       "    <tr>\n",
       "      <th>1</th>\n",
       "      <td>1.7</td>\n",
       "      <td>2001</td>\n",
       "      <td>Ohio</td>\n",
       "    </tr>\n",
       "    <tr>\n",
       "      <th>2</th>\n",
       "      <td>3.6</td>\n",
       "      <td>2002</td>\n",
       "      <td>Ohio</td>\n",
       "    </tr>\n",
       "    <tr>\n",
       "      <th>3</th>\n",
       "      <td>2.4</td>\n",
       "      <td>2001</td>\n",
       "      <td>Nevada</td>\n",
       "    </tr>\n",
       "    <tr>\n",
       "      <th>4</th>\n",
       "      <td>2.9</td>\n",
       "      <td>2002</td>\n",
       "      <td>Nevada</td>\n",
       "    </tr>\n",
       "  </tbody>\n",
       "</table>\n",
       "</div>"
      ],
      "text/plain": [
       "   pop  year   state\n",
       "0  1.5  2000    Ohio\n",
       "1  1.7  2001    Ohio\n",
       "2  3.6  2002    Ohio\n",
       "3  2.4  2001  Nevada\n",
       "4  2.9  2002  Nevada"
      ]
     },
     "execution_count": 153,
     "metadata": {},
     "output_type": "execute_result"
    }
   ],
   "source": [
    "df = DataFrame(data, columns = ['pop', 'year', 'state']) #열바꾸기\n",
    "df"
   ]
  },
  {
   "cell_type": "code",
   "execution_count": 191,
   "metadata": {
    "scrolled": true
   },
   "outputs": [
    {
     "data": {
      "text/html": [
       "<div>\n",
       "<style scoped>\n",
       "    .dataframe tbody tr th:only-of-type {\n",
       "        vertical-align: middle;\n",
       "    }\n",
       "\n",
       "    .dataframe tbody tr th {\n",
       "        vertical-align: top;\n",
       "    }\n",
       "\n",
       "    .dataframe thead th {\n",
       "        text-align: right;\n",
       "    }\n",
       "</style>\n",
       "<table border=\"1\" class=\"dataframe\">\n",
       "  <thead>\n",
       "    <tr style=\"text-align: right;\">\n",
       "      <th></th>\n",
       "      <th>year</th>\n",
       "      <th>state</th>\n",
       "      <th>pop</th>\n",
       "      <th>debt</th>\n",
       "    </tr>\n",
       "  </thead>\n",
       "  <tbody>\n",
       "    <tr>\n",
       "      <th>one</th>\n",
       "      <td>2000</td>\n",
       "      <td>Ohio</td>\n",
       "      <td>1.5</td>\n",
       "      <td>NaN</td>\n",
       "    </tr>\n",
       "    <tr>\n",
       "      <th>two</th>\n",
       "      <td>2001</td>\n",
       "      <td>Ohio</td>\n",
       "      <td>1.7</td>\n",
       "      <td>NaN</td>\n",
       "    </tr>\n",
       "    <tr>\n",
       "      <th>three</th>\n",
       "      <td>2002</td>\n",
       "      <td>Ohio</td>\n",
       "      <td>3.6</td>\n",
       "      <td>NaN</td>\n",
       "    </tr>\n",
       "    <tr>\n",
       "      <th>four</th>\n",
       "      <td>2001</td>\n",
       "      <td>Nevada</td>\n",
       "      <td>2.4</td>\n",
       "      <td>NaN</td>\n",
       "    </tr>\n",
       "    <tr>\n",
       "      <th>five</th>\n",
       "      <td>2002</td>\n",
       "      <td>Nevada</td>\n",
       "      <td>2.9</td>\n",
       "      <td>NaN</td>\n",
       "    </tr>\n",
       "  </tbody>\n",
       "</table>\n",
       "</div>"
      ],
      "text/plain": [
       "       year   state  pop debt\n",
       "one    2000    Ohio  1.5  NaN\n",
       "two    2001    Ohio  1.7  NaN\n",
       "three  2002    Ohio  3.6  NaN\n",
       "four   2001  Nevada  2.4  NaN\n",
       "five   2002  Nevada  2.9  NaN"
      ]
     },
     "execution_count": 191,
     "metadata": {},
     "output_type": "execute_result"
    }
   ],
   "source": [
    "df2 = DataFrame(data, columns = ['year', 'state', 'pop','debt'],\n",
    "               index = ['one','two','three','four','five'])\n",
    "df2"
   ]
  },
  {
   "cell_type": "code",
   "execution_count": 155,
   "metadata": {},
   "outputs": [
    {
     "data": {
      "text/plain": [
       "Index(['one', 'two', 'three', 'four', 'five'], dtype='object')"
      ]
     },
     "execution_count": 155,
     "metadata": {},
     "output_type": "execute_result"
    }
   ],
   "source": [
    "df2.index"
   ]
  },
  {
   "cell_type": "code",
   "execution_count": 156,
   "metadata": {},
   "outputs": [
    {
     "data": {
      "text/plain": [
       "Index(['year', 'state', 'pop', 'debt'], dtype='object')"
      ]
     },
     "execution_count": 156,
     "metadata": {},
     "output_type": "execute_result"
    }
   ],
   "source": [
    "df2.columns"
   ]
  },
  {
   "cell_type": "code",
   "execution_count": 158,
   "metadata": {},
   "outputs": [
    {
     "data": {
      "text/plain": [
       "one      2000\n",
       "two      2001\n",
       "three    2002\n",
       "four     2001\n",
       "five     2002\n",
       "Name: year, dtype: int64"
      ]
     },
     "execution_count": 158,
     "metadata": {},
     "output_type": "execute_result"
    }
   ],
   "source": [
    "df2.year #하나의 series임"
   ]
  },
  {
   "cell_type": "code",
   "execution_count": 159,
   "metadata": {},
   "outputs": [
    {
     "data": {
      "text/plain": [
       "one      2000\n",
       "two      2001\n",
       "three    2002\n",
       "four     2001\n",
       "five     2002\n",
       "Name: year, dtype: int64"
      ]
     },
     "execution_count": 159,
     "metadata": {},
     "output_type": "execute_result"
    }
   ],
   "source": [
    "df2['year'] #위에랑 같음"
   ]
  },
  {
   "cell_type": "code",
   "execution_count": 160,
   "metadata": {},
   "outputs": [
    {
     "data": {
      "text/html": [
       "<div>\n",
       "<style scoped>\n",
       "    .dataframe tbody tr th:only-of-type {\n",
       "        vertical-align: middle;\n",
       "    }\n",
       "\n",
       "    .dataframe tbody tr th {\n",
       "        vertical-align: top;\n",
       "    }\n",
       "\n",
       "    .dataframe thead th {\n",
       "        text-align: right;\n",
       "    }\n",
       "</style>\n",
       "<table border=\"1\" class=\"dataframe\">\n",
       "  <thead>\n",
       "    <tr style=\"text-align: right;\">\n",
       "      <th></th>\n",
       "      <th>year</th>\n",
       "      <th>pop</th>\n",
       "    </tr>\n",
       "  </thead>\n",
       "  <tbody>\n",
       "    <tr>\n",
       "      <th>one</th>\n",
       "      <td>2000</td>\n",
       "      <td>1.5</td>\n",
       "    </tr>\n",
       "    <tr>\n",
       "      <th>two</th>\n",
       "      <td>2001</td>\n",
       "      <td>1.7</td>\n",
       "    </tr>\n",
       "    <tr>\n",
       "      <th>three</th>\n",
       "      <td>2002</td>\n",
       "      <td>3.6</td>\n",
       "    </tr>\n",
       "    <tr>\n",
       "      <th>four</th>\n",
       "      <td>2001</td>\n",
       "      <td>2.4</td>\n",
       "    </tr>\n",
       "    <tr>\n",
       "      <th>five</th>\n",
       "      <td>2002</td>\n",
       "      <td>2.9</td>\n",
       "    </tr>\n",
       "  </tbody>\n",
       "</table>\n",
       "</div>"
      ],
      "text/plain": [
       "       year  pop\n",
       "one    2000  1.5\n",
       "two    2001  1.7\n",
       "three  2002  3.6\n",
       "four   2001  2.4\n",
       "five   2002  2.9"
      ]
     },
     "execution_count": 160,
     "metadata": {},
     "output_type": "execute_result"
    }
   ],
   "source": [
    "somelist = ['year','pop'] #list로 만들어서 출력가능\n",
    "df2[somelist]"
   ]
  },
  {
   "cell_type": "code",
   "execution_count": 166,
   "metadata": {},
   "outputs": [
    {
     "data": {
      "text/plain": [
       "year     2000\n",
       "state    Ohio\n",
       "pop       1.5\n",
       "debt      NaN\n",
       "Name: one, dtype: object"
      ]
     },
     "execution_count": 166,
     "metadata": {},
     "output_type": "execute_result"
    }
   ],
   "source": [
    "df2.loc['one'] #행에 접근하는 방법"
   ]
  },
  {
   "cell_type": "code",
   "execution_count": 167,
   "metadata": {},
   "outputs": [
    {
     "data": {
      "text/plain": [
       "year     2000\n",
       "state    Ohio\n",
       "pop       1.5\n",
       "debt      NaN\n",
       "Name: one, dtype: object"
      ]
     },
     "execution_count": 167,
     "metadata": {},
     "output_type": "execute_result"
    }
   ],
   "source": [
    "df2.iloc[0] #숫자"
   ]
  },
  {
   "cell_type": "code",
   "execution_count": 170,
   "metadata": {},
   "outputs": [
    {
     "data": {
      "text/html": [
       "<div>\n",
       "<style scoped>\n",
       "    .dataframe tbody tr th:only-of-type {\n",
       "        vertical-align: middle;\n",
       "    }\n",
       "\n",
       "    .dataframe tbody tr th {\n",
       "        vertical-align: top;\n",
       "    }\n",
       "\n",
       "    .dataframe thead th {\n",
       "        text-align: right;\n",
       "    }\n",
       "</style>\n",
       "<table border=\"1\" class=\"dataframe\">\n",
       "  <thead>\n",
       "    <tr style=\"text-align: right;\">\n",
       "      <th></th>\n",
       "      <th>year</th>\n",
       "      <th>state</th>\n",
       "      <th>pop</th>\n",
       "      <th>debt</th>\n",
       "    </tr>\n",
       "  </thead>\n",
       "  <tbody>\n",
       "    <tr>\n",
       "      <th>one</th>\n",
       "      <td>2000</td>\n",
       "      <td>Ohio</td>\n",
       "      <td>1.5</td>\n",
       "      <td>NaN</td>\n",
       "    </tr>\n",
       "    <tr>\n",
       "      <th>two</th>\n",
       "      <td>2001</td>\n",
       "      <td>Ohio</td>\n",
       "      <td>1.7</td>\n",
       "      <td>NaN</td>\n",
       "    </tr>\n",
       "  </tbody>\n",
       "</table>\n",
       "</div>"
      ],
      "text/plain": [
       "     year state  pop debt\n",
       "one  2000  Ohio  1.5  NaN\n",
       "two  2001  Ohio  1.7  NaN"
      ]
     },
     "execution_count": 170,
     "metadata": {},
     "output_type": "execute_result"
    }
   ],
   "source": [
    "somelist = ['one','two']\n",
    "df2.loc[df2.index.isin(['one','two'])]"
   ]
  },
  {
   "cell_type": "code",
   "execution_count": 171,
   "metadata": {},
   "outputs": [
    {
     "data": {
      "text/html": [
       "<div>\n",
       "<style scoped>\n",
       "    .dataframe tbody tr th:only-of-type {\n",
       "        vertical-align: middle;\n",
       "    }\n",
       "\n",
       "    .dataframe tbody tr th {\n",
       "        vertical-align: top;\n",
       "    }\n",
       "\n",
       "    .dataframe thead th {\n",
       "        text-align: right;\n",
       "    }\n",
       "</style>\n",
       "<table border=\"1\" class=\"dataframe\">\n",
       "  <thead>\n",
       "    <tr style=\"text-align: right;\">\n",
       "      <th></th>\n",
       "      <th>year</th>\n",
       "      <th>state</th>\n",
       "      <th>pop</th>\n",
       "      <th>debt</th>\n",
       "    </tr>\n",
       "  </thead>\n",
       "  <tbody>\n",
       "    <tr>\n",
       "      <th>one</th>\n",
       "      <td>2000</td>\n",
       "      <td>Ohio</td>\n",
       "      <td>1.5</td>\n",
       "      <td>NaN</td>\n",
       "    </tr>\n",
       "    <tr>\n",
       "      <th>two</th>\n",
       "      <td>2001</td>\n",
       "      <td>Ohio</td>\n",
       "      <td>1.7</td>\n",
       "      <td>NaN</td>\n",
       "    </tr>\n",
       "  </tbody>\n",
       "</table>\n",
       "</div>"
      ],
      "text/plain": [
       "     year state  pop debt\n",
       "one  2000  Ohio  1.5  NaN\n",
       "two  2001  Ohio  1.7  NaN"
      ]
     },
     "execution_count": 171,
     "metadata": {},
     "output_type": "execute_result"
    }
   ],
   "source": [
    "df2.iloc[:2]"
   ]
  },
  {
   "cell_type": "code",
   "execution_count": 173,
   "metadata": {},
   "outputs": [
    {
     "data": {
      "text/plain": [
       "array([ True, False, False, False, False])"
      ]
     },
     "execution_count": 173,
     "metadata": {},
     "output_type": "execute_result"
    }
   ],
   "source": [
    "bool_idx = (df2.index == 'one')\n",
    "bool_idx"
   ]
  },
  {
   "cell_type": "code",
   "execution_count": 192,
   "metadata": {},
   "outputs": [
    {
     "name": "stdout",
     "output_type": "stream",
     "text": [
      "one       True\n",
      "two       True\n",
      "three    False\n",
      "four      True\n",
      "five     False\n",
      "Name: year, dtype: bool\n"
     ]
    },
    {
     "data": {
      "text/html": [
       "<div>\n",
       "<style scoped>\n",
       "    .dataframe tbody tr th:only-of-type {\n",
       "        vertical-align: middle;\n",
       "    }\n",
       "\n",
       "    .dataframe tbody tr th {\n",
       "        vertical-align: top;\n",
       "    }\n",
       "\n",
       "    .dataframe thead th {\n",
       "        text-align: right;\n",
       "    }\n",
       "</style>\n",
       "<table border=\"1\" class=\"dataframe\">\n",
       "  <thead>\n",
       "    <tr style=\"text-align: right;\">\n",
       "      <th></th>\n",
       "      <th>year</th>\n",
       "      <th>state</th>\n",
       "      <th>pop</th>\n",
       "      <th>debt</th>\n",
       "    </tr>\n",
       "  </thead>\n",
       "  <tbody>\n",
       "    <tr>\n",
       "      <th>one</th>\n",
       "      <td>2000</td>\n",
       "      <td>Ohio</td>\n",
       "      <td>1.5</td>\n",
       "      <td>NaN</td>\n",
       "    </tr>\n",
       "    <tr>\n",
       "      <th>two</th>\n",
       "      <td>2001</td>\n",
       "      <td>Ohio</td>\n",
       "      <td>1.7</td>\n",
       "      <td>NaN</td>\n",
       "    </tr>\n",
       "    <tr>\n",
       "      <th>four</th>\n",
       "      <td>2001</td>\n",
       "      <td>Nevada</td>\n",
       "      <td>2.4</td>\n",
       "      <td>NaN</td>\n",
       "    </tr>\n",
       "  </tbody>\n",
       "</table>\n",
       "</div>"
      ],
      "text/plain": [
       "      year   state  pop debt\n",
       "one   2000    Ohio  1.5  NaN\n",
       "two   2001    Ohio  1.7  NaN\n",
       "four  2001  Nevada  2.4  NaN"
      ]
     },
     "execution_count": 192,
     "metadata": {},
     "output_type": "execute_result"
    }
   ],
   "source": [
    "lookingfor = [2000,2001]\n",
    "somelist = df2['year'].isin(lookingfor)\n",
    "print(somelist)\n",
    "df2[somelist]"
   ]
  },
  {
   "cell_type": "code",
   "execution_count": 193,
   "metadata": {},
   "outputs": [
    {
     "data": {
      "text/html": [
       "<div>\n",
       "<style scoped>\n",
       "    .dataframe tbody tr th:only-of-type {\n",
       "        vertical-align: middle;\n",
       "    }\n",
       "\n",
       "    .dataframe tbody tr th {\n",
       "        vertical-align: top;\n",
       "    }\n",
       "\n",
       "    .dataframe thead th {\n",
       "        text-align: right;\n",
       "    }\n",
       "</style>\n",
       "<table border=\"1\" class=\"dataframe\">\n",
       "  <thead>\n",
       "    <tr style=\"text-align: right;\">\n",
       "      <th></th>\n",
       "      <th>year</th>\n",
       "      <th>state</th>\n",
       "      <th>pop</th>\n",
       "      <th>debt</th>\n",
       "    </tr>\n",
       "  </thead>\n",
       "  <tbody>\n",
       "    <tr>\n",
       "      <th>one</th>\n",
       "      <td>2000</td>\n",
       "      <td>Ohio</td>\n",
       "      <td>1.5</td>\n",
       "      <td>0</td>\n",
       "    </tr>\n",
       "    <tr>\n",
       "      <th>two</th>\n",
       "      <td>2001</td>\n",
       "      <td>Ohio</td>\n",
       "      <td>1.7</td>\n",
       "      <td>1</td>\n",
       "    </tr>\n",
       "    <tr>\n",
       "      <th>three</th>\n",
       "      <td>2002</td>\n",
       "      <td>Ohio</td>\n",
       "      <td>3.6</td>\n",
       "      <td>2</td>\n",
       "    </tr>\n",
       "    <tr>\n",
       "      <th>four</th>\n",
       "      <td>2001</td>\n",
       "      <td>Nevada</td>\n",
       "      <td>2.4</td>\n",
       "      <td>3</td>\n",
       "    </tr>\n",
       "    <tr>\n",
       "      <th>five</th>\n",
       "      <td>2002</td>\n",
       "      <td>Nevada</td>\n",
       "      <td>2.9</td>\n",
       "      <td>4</td>\n",
       "    </tr>\n",
       "  </tbody>\n",
       "</table>\n",
       "</div>"
      ],
      "text/plain": [
       "       year   state  pop  debt\n",
       "one    2000    Ohio  1.5     0\n",
       "two    2001    Ohio  1.7     1\n",
       "three  2002    Ohio  3.6     2\n",
       "four   2001  Nevada  2.4     3\n",
       "five   2002  Nevada  2.9     4"
      ]
     },
     "execution_count": 193,
     "metadata": {},
     "output_type": "execute_result"
    }
   ],
   "source": [
    "df2.debt = np.arange(5)\n",
    "df2"
   ]
  },
  {
   "cell_type": "code",
   "execution_count": 204,
   "metadata": {},
   "outputs": [
    {
     "data": {
      "text/html": [
       "<div>\n",
       "<style scoped>\n",
       "    .dataframe tbody tr th:only-of-type {\n",
       "        vertical-align: middle;\n",
       "    }\n",
       "\n",
       "    .dataframe tbody tr th {\n",
       "        vertical-align: top;\n",
       "    }\n",
       "\n",
       "    .dataframe thead th {\n",
       "        text-align: right;\n",
       "    }\n",
       "</style>\n",
       "<table border=\"1\" class=\"dataframe\">\n",
       "  <thead>\n",
       "    <tr style=\"text-align: right;\">\n",
       "      <th></th>\n",
       "      <th>year</th>\n",
       "      <th>state</th>\n",
       "      <th>pop</th>\n",
       "      <th>debt</th>\n",
       "      <th>estern</th>\n",
       "    </tr>\n",
       "  </thead>\n",
       "  <tbody>\n",
       "    <tr>\n",
       "      <th>one</th>\n",
       "      <td>2000</td>\n",
       "      <td>Ohio</td>\n",
       "      <td>1.5</td>\n",
       "      <td>0</td>\n",
       "      <td>True</td>\n",
       "    </tr>\n",
       "    <tr>\n",
       "      <th>two</th>\n",
       "      <td>2001</td>\n",
       "      <td>Ohio</td>\n",
       "      <td>1.7</td>\n",
       "      <td>1</td>\n",
       "      <td>True</td>\n",
       "    </tr>\n",
       "    <tr>\n",
       "      <th>three</th>\n",
       "      <td>2002</td>\n",
       "      <td>Ohio</td>\n",
       "      <td>3.6</td>\n",
       "      <td>2</td>\n",
       "      <td>True</td>\n",
       "    </tr>\n",
       "    <tr>\n",
       "      <th>four</th>\n",
       "      <td>2001</td>\n",
       "      <td>Nevada</td>\n",
       "      <td>2.4</td>\n",
       "      <td>3</td>\n",
       "      <td>False</td>\n",
       "    </tr>\n",
       "    <tr>\n",
       "      <th>five</th>\n",
       "      <td>2002</td>\n",
       "      <td>Nevada</td>\n",
       "      <td>2.9</td>\n",
       "      <td>4</td>\n",
       "      <td>False</td>\n",
       "    </tr>\n",
       "  </tbody>\n",
       "</table>\n",
       "</div>"
      ],
      "text/plain": [
       "       year   state  pop  debt  estern\n",
       "one    2000    Ohio  1.5     0    True\n",
       "two    2001    Ohio  1.7     1    True\n",
       "three  2002    Ohio  3.6     2    True\n",
       "four   2001  Nevada  2.4     3   False\n",
       "five   2002  Nevada  2.9     4   False"
      ]
     },
     "execution_count": 204,
     "metadata": {},
     "output_type": "execute_result"
    }
   ],
   "source": [
    "df2['estern'] = df2.state == 'Ohio'\n",
    "df2"
   ]
  },
  {
   "cell_type": "code",
   "execution_count": 207,
   "metadata": {},
   "outputs": [
    {
     "data": {
      "text/html": [
       "<div>\n",
       "<style scoped>\n",
       "    .dataframe tbody tr th:only-of-type {\n",
       "        vertical-align: middle;\n",
       "    }\n",
       "\n",
       "    .dataframe tbody tr th {\n",
       "        vertical-align: top;\n",
       "    }\n",
       "\n",
       "    .dataframe thead th {\n",
       "        text-align: right;\n",
       "    }\n",
       "</style>\n",
       "<table border=\"1\" class=\"dataframe\">\n",
       "  <thead>\n",
       "    <tr style=\"text-align: right;\">\n",
       "      <th></th>\n",
       "      <th>year</th>\n",
       "      <th>state</th>\n",
       "      <th>pop</th>\n",
       "      <th>debt</th>\n",
       "    </tr>\n",
       "  </thead>\n",
       "  <tbody>\n",
       "    <tr>\n",
       "      <th>one</th>\n",
       "      <td>2000</td>\n",
       "      <td>Ohio</td>\n",
       "      <td>1.5</td>\n",
       "      <td>0</td>\n",
       "    </tr>\n",
       "    <tr>\n",
       "      <th>two</th>\n",
       "      <td>2001</td>\n",
       "      <td>Ohio</td>\n",
       "      <td>1.7</td>\n",
       "      <td>1</td>\n",
       "    </tr>\n",
       "    <tr>\n",
       "      <th>three</th>\n",
       "      <td>2002</td>\n",
       "      <td>Ohio</td>\n",
       "      <td>3.6</td>\n",
       "      <td>2</td>\n",
       "    </tr>\n",
       "    <tr>\n",
       "      <th>four</th>\n",
       "      <td>2001</td>\n",
       "      <td>Nevada</td>\n",
       "      <td>2.4</td>\n",
       "      <td>3</td>\n",
       "    </tr>\n",
       "    <tr>\n",
       "      <th>five</th>\n",
       "      <td>2002</td>\n",
       "      <td>Nevada</td>\n",
       "      <td>2.9</td>\n",
       "      <td>4</td>\n",
       "    </tr>\n",
       "  </tbody>\n",
       "</table>\n",
       "</div>"
      ],
      "text/plain": [
       "       year   state  pop  debt\n",
       "one    2000    Ohio  1.5     0\n",
       "two    2001    Ohio  1.7     1\n",
       "three  2002    Ohio  3.6     2\n",
       "four   2001  Nevada  2.4     3\n",
       "five   2002  Nevada  2.9     4"
      ]
     },
     "execution_count": 207,
     "metadata": {},
     "output_type": "execute_result"
    }
   ],
   "source": [
    "del df2['estern']\n",
    "df2"
   ]
  },
  {
   "cell_type": "code",
   "execution_count": 208,
   "metadata": {},
   "outputs": [
    {
     "data": {
      "text/html": [
       "<div>\n",
       "<style scoped>\n",
       "    .dataframe tbody tr th:only-of-type {\n",
       "        vertical-align: middle;\n",
       "    }\n",
       "\n",
       "    .dataframe tbody tr th {\n",
       "        vertical-align: top;\n",
       "    }\n",
       "\n",
       "    .dataframe thead th {\n",
       "        text-align: right;\n",
       "    }\n",
       "</style>\n",
       "<table border=\"1\" class=\"dataframe\">\n",
       "  <thead>\n",
       "    <tr style=\"text-align: right;\">\n",
       "      <th></th>\n",
       "      <th>one</th>\n",
       "      <th>two</th>\n",
       "      <th>three</th>\n",
       "      <th>four</th>\n",
       "      <th>five</th>\n",
       "    </tr>\n",
       "  </thead>\n",
       "  <tbody>\n",
       "    <tr>\n",
       "      <th>year</th>\n",
       "      <td>2000</td>\n",
       "      <td>2001</td>\n",
       "      <td>2002</td>\n",
       "      <td>2001</td>\n",
       "      <td>2002</td>\n",
       "    </tr>\n",
       "    <tr>\n",
       "      <th>state</th>\n",
       "      <td>Ohio</td>\n",
       "      <td>Ohio</td>\n",
       "      <td>Ohio</td>\n",
       "      <td>Nevada</td>\n",
       "      <td>Nevada</td>\n",
       "    </tr>\n",
       "    <tr>\n",
       "      <th>pop</th>\n",
       "      <td>1.5</td>\n",
       "      <td>1.7</td>\n",
       "      <td>3.6</td>\n",
       "      <td>2.4</td>\n",
       "      <td>2.9</td>\n",
       "    </tr>\n",
       "    <tr>\n",
       "      <th>debt</th>\n",
       "      <td>0</td>\n",
       "      <td>1</td>\n",
       "      <td>2</td>\n",
       "      <td>3</td>\n",
       "      <td>4</td>\n",
       "    </tr>\n",
       "  </tbody>\n",
       "</table>\n",
       "</div>"
      ],
      "text/plain": [
       "        one   two three    four    five\n",
       "year   2000  2001  2002    2001    2002\n",
       "state  Ohio  Ohio  Ohio  Nevada  Nevada\n",
       "pop     1.5   1.7   3.6     2.4     2.9\n",
       "debt      0     1     2       3       4"
      ]
     },
     "execution_count": 208,
     "metadata": {},
     "output_type": "execute_result"
    }
   ],
   "source": [
    "df2.T"
   ]
  },
  {
   "cell_type": "code",
   "execution_count": 209,
   "metadata": {},
   "outputs": [
    {
     "data": {
      "text/plain": [
       "array([[2000, 'Ohio', 1.5, 0],\n",
       "       [2001, 'Ohio', 1.7, 1],\n",
       "       [2002, 'Ohio', 3.6, 2],\n",
       "       [2001, 'Nevada', 2.4, 3],\n",
       "       [2002, 'Nevada', 2.9, 4]], dtype=object)"
      ]
     },
     "execution_count": 209,
     "metadata": {},
     "output_type": "execute_result"
    }
   ],
   "source": [
    "df2.values"
   ]
  },
  {
   "cell_type": "code",
   "execution_count": 210,
   "metadata": {},
   "outputs": [
    {
     "data": {
      "text/html": [
       "<div>\n",
       "<style scoped>\n",
       "    .dataframe tbody tr th:only-of-type {\n",
       "        vertical-align: middle;\n",
       "    }\n",
       "\n",
       "    .dataframe tbody tr th {\n",
       "        vertical-align: top;\n",
       "    }\n",
       "\n",
       "    .dataframe thead th {\n",
       "        text-align: right;\n",
       "    }\n",
       "</style>\n",
       "<table border=\"1\" class=\"dataframe\">\n",
       "  <thead>\n",
       "    <tr style=\"text-align: right;\">\n",
       "      <th></th>\n",
       "      <th>one</th>\n",
       "      <th>two</th>\n",
       "      <th>three</th>\n",
       "      <th>four</th>\n",
       "      <th>five</th>\n",
       "    </tr>\n",
       "  </thead>\n",
       "  <tbody>\n",
       "    <tr>\n",
       "      <th>year</th>\n",
       "      <td>2000</td>\n",
       "      <td>2001</td>\n",
       "      <td>2002</td>\n",
       "      <td>2001</td>\n",
       "      <td>2002</td>\n",
       "    </tr>\n",
       "    <tr>\n",
       "      <th>state</th>\n",
       "      <td>Ohio</td>\n",
       "      <td>Ohio</td>\n",
       "      <td>Ohio</td>\n",
       "      <td>Nevada</td>\n",
       "      <td>Nevada</td>\n",
       "    </tr>\n",
       "    <tr>\n",
       "      <th>pop</th>\n",
       "      <td>1.5</td>\n",
       "      <td>1.7</td>\n",
       "      <td>3.6</td>\n",
       "      <td>2.4</td>\n",
       "      <td>2.9</td>\n",
       "    </tr>\n",
       "    <tr>\n",
       "      <th>debt</th>\n",
       "      <td>0</td>\n",
       "      <td>1</td>\n",
       "      <td>2</td>\n",
       "      <td>3</td>\n",
       "      <td>4</td>\n",
       "    </tr>\n",
       "  </tbody>\n",
       "</table>\n",
       "</div>"
      ],
      "text/plain": [
       "        one   two three    four    five\n",
       "year   2000  2001  2002    2001    2002\n",
       "state  Ohio  Ohio  Ohio  Nevada  Nevada\n",
       "pop     1.5   1.7   3.6     2.4     2.9\n",
       "debt      0     1     2       3       4"
      ]
     },
     "execution_count": 210,
     "metadata": {},
     "output_type": "execute_result"
    }
   ],
   "source": [
    "df2.T"
   ]
  },
  {
   "cell_type": "code",
   "execution_count": 1,
   "metadata": {},
   "outputs": [],
   "source": [
    "import pandas as pd"
   ]
  },
  {
   "cell_type": "code",
   "execution_count": 2,
   "metadata": {},
   "outputs": [],
   "source": [
    "df = pd.read_excel('http://qrc.depaul.edu/Excel_Files/Presidents.xls')"
   ]
  },
  {
   "cell_type": "code",
   "execution_count": 3,
   "metadata": {
    "scrolled": true
   },
   "outputs": [
    {
     "data": {
      "text/html": [
       "<div>\n",
       "<style scoped>\n",
       "    .dataframe tbody tr th:only-of-type {\n",
       "        vertical-align: middle;\n",
       "    }\n",
       "\n",
       "    .dataframe tbody tr th {\n",
       "        vertical-align: top;\n",
       "    }\n",
       "\n",
       "    .dataframe thead th {\n",
       "        text-align: right;\n",
       "    }\n",
       "</style>\n",
       "<table border=\"1\" class=\"dataframe\">\n",
       "  <thead>\n",
       "    <tr style=\"text-align: right;\">\n",
       "      <th></th>\n",
       "      <th>President</th>\n",
       "      <th>Years in office</th>\n",
       "      <th>Year first inaugurated</th>\n",
       "      <th>Age at inauguration</th>\n",
       "      <th>State elected from</th>\n",
       "      <th># of electoral votes</th>\n",
       "      <th># of popular votes</th>\n",
       "      <th>National total votes</th>\n",
       "      <th>Total electoral votes</th>\n",
       "      <th>Rating points</th>\n",
       "      <th>Political Party</th>\n",
       "      <th>Occupation</th>\n",
       "      <th>College</th>\n",
       "      <th>% electoral</th>\n",
       "      <th>% popular</th>\n",
       "    </tr>\n",
       "  </thead>\n",
       "  <tbody>\n",
       "    <tr>\n",
       "      <th>0</th>\n",
       "      <td>George Washington</td>\n",
       "      <td>8.0</td>\n",
       "      <td>1789</td>\n",
       "      <td>57</td>\n",
       "      <td>Virginia</td>\n",
       "      <td>69</td>\n",
       "      <td>NA()</td>\n",
       "      <td>NA()</td>\n",
       "      <td>69</td>\n",
       "      <td>842.0</td>\n",
       "      <td>None</td>\n",
       "      <td>Planter</td>\n",
       "      <td>None</td>\n",
       "      <td>100.000000</td>\n",
       "      <td>NA()</td>\n",
       "    </tr>\n",
       "    <tr>\n",
       "      <th>1</th>\n",
       "      <td>John Adams</td>\n",
       "      <td>4.0</td>\n",
       "      <td>1797</td>\n",
       "      <td>61</td>\n",
       "      <td>Massachusetts</td>\n",
       "      <td>132</td>\n",
       "      <td>NA()</td>\n",
       "      <td>NA()</td>\n",
       "      <td>139</td>\n",
       "      <td>598.0</td>\n",
       "      <td>Federalist</td>\n",
       "      <td>Lawyer</td>\n",
       "      <td>Harvard</td>\n",
       "      <td>94.964029</td>\n",
       "      <td>NA()</td>\n",
       "    </tr>\n",
       "    <tr>\n",
       "      <th>2</th>\n",
       "      <td>Thomas Jefferson</td>\n",
       "      <td>8.0</td>\n",
       "      <td>1801</td>\n",
       "      <td>57</td>\n",
       "      <td>Virginia</td>\n",
       "      <td>73</td>\n",
       "      <td>NA()</td>\n",
       "      <td>NA()</td>\n",
       "      <td>137</td>\n",
       "      <td>711.0</td>\n",
       "      <td>Democratic-Republican</td>\n",
       "      <td>Planter, Lawyer</td>\n",
       "      <td>William and Mary</td>\n",
       "      <td>53.284672</td>\n",
       "      <td>NA()</td>\n",
       "    </tr>\n",
       "    <tr>\n",
       "      <th>3</th>\n",
       "      <td>James Madison</td>\n",
       "      <td>8.0</td>\n",
       "      <td>1809</td>\n",
       "      <td>57</td>\n",
       "      <td>Virginia</td>\n",
       "      <td>122</td>\n",
       "      <td>NA()</td>\n",
       "      <td>NA()</td>\n",
       "      <td>176</td>\n",
       "      <td>567.0</td>\n",
       "      <td>Democratic-Republican</td>\n",
       "      <td>Lawyer</td>\n",
       "      <td>Princeton</td>\n",
       "      <td>69.318182</td>\n",
       "      <td>NA()</td>\n",
       "    </tr>\n",
       "    <tr>\n",
       "      <th>4</th>\n",
       "      <td>James Monroe</td>\n",
       "      <td>8.0</td>\n",
       "      <td>1817</td>\n",
       "      <td>58</td>\n",
       "      <td>Virginia</td>\n",
       "      <td>183</td>\n",
       "      <td>NA()</td>\n",
       "      <td>NA()</td>\n",
       "      <td>221</td>\n",
       "      <td>602.0</td>\n",
       "      <td>Democratic-Republican</td>\n",
       "      <td>Lawyer</td>\n",
       "      <td>William and Mary</td>\n",
       "      <td>82.805430</td>\n",
       "      <td>NA()</td>\n",
       "    </tr>\n",
       "    <tr>\n",
       "      <th>5</th>\n",
       "      <td>John Quincy Adams</td>\n",
       "      <td>4.0</td>\n",
       "      <td>1825</td>\n",
       "      <td>57</td>\n",
       "      <td>Massachusetts</td>\n",
       "      <td>84</td>\n",
       "      <td>NA()</td>\n",
       "      <td>NA()</td>\n",
       "      <td>261</td>\n",
       "      <td>564.0</td>\n",
       "      <td>Democratic-Republican</td>\n",
       "      <td>Lawyer</td>\n",
       "      <td>Harvard</td>\n",
       "      <td>32.183908</td>\n",
       "      <td>NA()</td>\n",
       "    </tr>\n",
       "    <tr>\n",
       "      <th>6</th>\n",
       "      <td>Andrew Jackson</td>\n",
       "      <td>8.0</td>\n",
       "      <td>1829</td>\n",
       "      <td>61</td>\n",
       "      <td>Tennessee</td>\n",
       "      <td>178</td>\n",
       "      <td>642553</td>\n",
       "      <td>1148018</td>\n",
       "      <td>261</td>\n",
       "      <td>632.0</td>\n",
       "      <td>Democrat</td>\n",
       "      <td>Lawyer</td>\n",
       "      <td>None</td>\n",
       "      <td>68.199234</td>\n",
       "      <td>55.9706</td>\n",
       "    </tr>\n",
       "    <tr>\n",
       "      <th>7</th>\n",
       "      <td>Martin Van Buren</td>\n",
       "      <td>4.0</td>\n",
       "      <td>1837</td>\n",
       "      <td>54</td>\n",
       "      <td>New York</td>\n",
       "      <td>170</td>\n",
       "      <td>764176</td>\n",
       "      <td>1503534</td>\n",
       "      <td>294</td>\n",
       "      <td>429.0</td>\n",
       "      <td>Democrat</td>\n",
       "      <td>Lawyer</td>\n",
       "      <td>None</td>\n",
       "      <td>57.823129</td>\n",
       "      <td>50.8253</td>\n",
       "    </tr>\n",
       "    <tr>\n",
       "      <th>8</th>\n",
       "      <td>William Henry Harrison</td>\n",
       "      <td>0.8</td>\n",
       "      <td>1841</td>\n",
       "      <td>68</td>\n",
       "      <td>Ohio</td>\n",
       "      <td>234</td>\n",
       "      <td>1275390</td>\n",
       "      <td>2411808</td>\n",
       "      <td>294</td>\n",
       "      <td>329.0</td>\n",
       "      <td>Whig</td>\n",
       "      <td>Soldier</td>\n",
       "      <td>Hampden-Sydney</td>\n",
       "      <td>79.591837</td>\n",
       "      <td>52.8811</td>\n",
       "    </tr>\n",
       "    <tr>\n",
       "      <th>9</th>\n",
       "      <td>James K. Polk</td>\n",
       "      <td>4.0</td>\n",
       "      <td>1845</td>\n",
       "      <td>49</td>\n",
       "      <td>Tennessee</td>\n",
       "      <td>170</td>\n",
       "      <td>1339494</td>\n",
       "      <td>2703659</td>\n",
       "      <td>275</td>\n",
       "      <td>632.0</td>\n",
       "      <td>Democrat</td>\n",
       "      <td>Lawyer</td>\n",
       "      <td>U. of North Carolina</td>\n",
       "      <td>61.818182</td>\n",
       "      <td>49.5437</td>\n",
       "    </tr>\n",
       "    <tr>\n",
       "      <th>10</th>\n",
       "      <td>Zachary Taylor</td>\n",
       "      <td>1.0</td>\n",
       "      <td>1849</td>\n",
       "      <td>64</td>\n",
       "      <td>Louisiana</td>\n",
       "      <td>163</td>\n",
       "      <td>1361393</td>\n",
       "      <td>2879184</td>\n",
       "      <td>290</td>\n",
       "      <td>447.0</td>\n",
       "      <td>Whig</td>\n",
       "      <td>Soldier</td>\n",
       "      <td>None</td>\n",
       "      <td>56.206897</td>\n",
       "      <td>47.284</td>\n",
       "    </tr>\n",
       "    <tr>\n",
       "      <th>11</th>\n",
       "      <td>Franklin Pierce</td>\n",
       "      <td>4.0</td>\n",
       "      <td>1853</td>\n",
       "      <td>48</td>\n",
       "      <td>New Hampshire</td>\n",
       "      <td>254</td>\n",
       "      <td>1607510</td>\n",
       "      <td>3161830</td>\n",
       "      <td>296</td>\n",
       "      <td>286.0</td>\n",
       "      <td>Democrat</td>\n",
       "      <td>Lawyer</td>\n",
       "      <td>Bowdoin</td>\n",
       "      <td>85.810811</td>\n",
       "      <td>50.8411</td>\n",
       "    </tr>\n",
       "    <tr>\n",
       "      <th>12</th>\n",
       "      <td>James Buchanan</td>\n",
       "      <td>4.0</td>\n",
       "      <td>1857</td>\n",
       "      <td>65</td>\n",
       "      <td>Pennsylvania</td>\n",
       "      <td>174</td>\n",
       "      <td>1836072</td>\n",
       "      <td>4054647</td>\n",
       "      <td>296</td>\n",
       "      <td>259.0</td>\n",
       "      <td>Democrat</td>\n",
       "      <td>Lawyer</td>\n",
       "      <td>Dickinson</td>\n",
       "      <td>58.783784</td>\n",
       "      <td>45.2832</td>\n",
       "    </tr>\n",
       "    <tr>\n",
       "      <th>13</th>\n",
       "      <td>Abraham Lincoln</td>\n",
       "      <td>4.0</td>\n",
       "      <td>1861</td>\n",
       "      <td>52</td>\n",
       "      <td>Illinois</td>\n",
       "      <td>180</td>\n",
       "      <td>1865908</td>\n",
       "      <td>4685561</td>\n",
       "      <td>303</td>\n",
       "      <td>900.0</td>\n",
       "      <td>Republican</td>\n",
       "      <td>Lawyer</td>\n",
       "      <td>None</td>\n",
       "      <td>59.405941</td>\n",
       "      <td>39.8225</td>\n",
       "    </tr>\n",
       "    <tr>\n",
       "      <th>14</th>\n",
       "      <td>Ulysses S. Grant</td>\n",
       "      <td>8.0</td>\n",
       "      <td>1869</td>\n",
       "      <td>46</td>\n",
       "      <td>Illinois</td>\n",
       "      <td>214</td>\n",
       "      <td>3013650</td>\n",
       "      <td>5722440</td>\n",
       "      <td>294</td>\n",
       "      <td>403.0</td>\n",
       "      <td>Republican</td>\n",
       "      <td>Soldier</td>\n",
       "      <td>US Military Academy</td>\n",
       "      <td>72.789116</td>\n",
       "      <td>52.6637</td>\n",
       "    </tr>\n",
       "    <tr>\n",
       "      <th>15</th>\n",
       "      <td>Rutherford B. Hayes</td>\n",
       "      <td>4.0</td>\n",
       "      <td>1877</td>\n",
       "      <td>54</td>\n",
       "      <td>Ohio</td>\n",
       "      <td>185</td>\n",
       "      <td>4034311</td>\n",
       "      <td>8413101</td>\n",
       "      <td>369</td>\n",
       "      <td>477.0</td>\n",
       "      <td>Republican</td>\n",
       "      <td>Lawyer</td>\n",
       "      <td>Kenyon</td>\n",
       "      <td>50.135501</td>\n",
       "      <td>47.9527</td>\n",
       "    </tr>\n",
       "    <tr>\n",
       "      <th>16</th>\n",
       "      <td>James A. Garfield</td>\n",
       "      <td>0.5</td>\n",
       "      <td>1881</td>\n",
       "      <td>49</td>\n",
       "      <td>Ohio</td>\n",
       "      <td>214</td>\n",
       "      <td>4446158</td>\n",
       "      <td>9210420</td>\n",
       "      <td>369</td>\n",
       "      <td>444.0</td>\n",
       "      <td>Republican</td>\n",
       "      <td>Lawyer</td>\n",
       "      <td>Williams</td>\n",
       "      <td>57.994580</td>\n",
       "      <td>48.2731</td>\n",
       "    </tr>\n",
       "    <tr>\n",
       "      <th>17</th>\n",
       "      <td>Grover Cleveland</td>\n",
       "      <td>4.0</td>\n",
       "      <td>1885</td>\n",
       "      <td>47</td>\n",
       "      <td>New York</td>\n",
       "      <td>219</td>\n",
       "      <td>4874621</td>\n",
       "      <td>10049754</td>\n",
       "      <td>401</td>\n",
       "      <td>576.0</td>\n",
       "      <td>Democrat</td>\n",
       "      <td>Lawyer</td>\n",
       "      <td>None</td>\n",
       "      <td>54.613466</td>\n",
       "      <td>48.5049</td>\n",
       "    </tr>\n",
       "    <tr>\n",
       "      <th>18</th>\n",
       "      <td>Benjamin Harrison</td>\n",
       "      <td>4.0</td>\n",
       "      <td>1889</td>\n",
       "      <td>55</td>\n",
       "      <td>Indiana</td>\n",
       "      <td>233</td>\n",
       "      <td>5443892</td>\n",
       "      <td>11383320</td>\n",
       "      <td>401</td>\n",
       "      <td>426.0</td>\n",
       "      <td>Republican</td>\n",
       "      <td>Lawyer</td>\n",
       "      <td>Miami</td>\n",
       "      <td>58.104738</td>\n",
       "      <td>47.8234</td>\n",
       "    </tr>\n",
       "    <tr>\n",
       "      <th>19</th>\n",
       "      <td>Grover Cleveland</td>\n",
       "      <td>4.0</td>\n",
       "      <td>1893</td>\n",
       "      <td>55</td>\n",
       "      <td>New York</td>\n",
       "      <td>277</td>\n",
       "      <td>5551883</td>\n",
       "      <td>12056097</td>\n",
       "      <td>444</td>\n",
       "      <td>576.0</td>\n",
       "      <td>Democrat</td>\n",
       "      <td>Lawyer</td>\n",
       "      <td>None</td>\n",
       "      <td>62.387387</td>\n",
       "      <td>46.0504</td>\n",
       "    </tr>\n",
       "    <tr>\n",
       "      <th>20</th>\n",
       "      <td>William McKinley</td>\n",
       "      <td>4.0</td>\n",
       "      <td>1897</td>\n",
       "      <td>54</td>\n",
       "      <td>Ohio</td>\n",
       "      <td>271</td>\n",
       "      <td>7108480</td>\n",
       "      <td>13935738</td>\n",
       "      <td>447</td>\n",
       "      <td>601.0</td>\n",
       "      <td>Republican</td>\n",
       "      <td>Lawyer</td>\n",
       "      <td>Allegheny College</td>\n",
       "      <td>60.626398</td>\n",
       "      <td>51.009</td>\n",
       "    </tr>\n",
       "    <tr>\n",
       "      <th>21</th>\n",
       "      <td>William Howard Taft</td>\n",
       "      <td>4.0</td>\n",
       "      <td>1909</td>\n",
       "      <td>51</td>\n",
       "      <td>Ohio</td>\n",
       "      <td>321</td>\n",
       "      <td>7676258</td>\n",
       "      <td>14882734</td>\n",
       "      <td>483</td>\n",
       "      <td>491.0</td>\n",
       "      <td>Republican</td>\n",
       "      <td>Lawyer</td>\n",
       "      <td>Yale</td>\n",
       "      <td>66.459627</td>\n",
       "      <td>51.5783</td>\n",
       "    </tr>\n",
       "    <tr>\n",
       "      <th>22</th>\n",
       "      <td>Woodrow Wilson</td>\n",
       "      <td>8.0</td>\n",
       "      <td>1913</td>\n",
       "      <td>56</td>\n",
       "      <td>New Jersey</td>\n",
       "      <td>435</td>\n",
       "      <td>6293152</td>\n",
       "      <td>15040963</td>\n",
       "      <td>531</td>\n",
       "      <td>723.0</td>\n",
       "      <td>Democrat</td>\n",
       "      <td>Educator</td>\n",
       "      <td>Princeton</td>\n",
       "      <td>81.920904</td>\n",
       "      <td>41.8401</td>\n",
       "    </tr>\n",
       "    <tr>\n",
       "      <th>23</th>\n",
       "      <td>Warren G. Harding</td>\n",
       "      <td>2.0</td>\n",
       "      <td>1921</td>\n",
       "      <td>55</td>\n",
       "      <td>Ohio</td>\n",
       "      <td>404</td>\n",
       "      <td>16133314</td>\n",
       "      <td>26753786</td>\n",
       "      <td>531</td>\n",
       "      <td>326.0</td>\n",
       "      <td>Republican</td>\n",
       "      <td>Editor</td>\n",
       "      <td>None</td>\n",
       "      <td>76.082863</td>\n",
       "      <td>60.3029</td>\n",
       "    </tr>\n",
       "    <tr>\n",
       "      <th>24</th>\n",
       "      <td>Herbert Hoover</td>\n",
       "      <td>4.0</td>\n",
       "      <td>1929</td>\n",
       "      <td>54</td>\n",
       "      <td>California</td>\n",
       "      <td>444</td>\n",
       "      <td>21411991</td>\n",
       "      <td>36790364</td>\n",
       "      <td>531</td>\n",
       "      <td>400.0</td>\n",
       "      <td>Republican</td>\n",
       "      <td>Engineer</td>\n",
       "      <td>Stanford</td>\n",
       "      <td>83.615819</td>\n",
       "      <td>58.2</td>\n",
       "    </tr>\n",
       "    <tr>\n",
       "      <th>25</th>\n",
       "      <td>Franklin Roosevelt</td>\n",
       "      <td>12.0</td>\n",
       "      <td>1933</td>\n",
       "      <td>51</td>\n",
       "      <td>New York</td>\n",
       "      <td>472</td>\n",
       "      <td>22825016</td>\n",
       "      <td>39749382</td>\n",
       "      <td>531</td>\n",
       "      <td>876.0</td>\n",
       "      <td>Democrat</td>\n",
       "      <td>Lawyer</td>\n",
       "      <td>Harvard</td>\n",
       "      <td>88.888889</td>\n",
       "      <td>57.4223</td>\n",
       "    </tr>\n",
       "    <tr>\n",
       "      <th>26</th>\n",
       "      <td>Dwight D. Eisenhower</td>\n",
       "      <td>8.0</td>\n",
       "      <td>1953</td>\n",
       "      <td>62</td>\n",
       "      <td>New York</td>\n",
       "      <td>442</td>\n",
       "      <td>33936137</td>\n",
       "      <td>61551118</td>\n",
       "      <td>531</td>\n",
       "      <td>699.0</td>\n",
       "      <td>Republican</td>\n",
       "      <td>Soldier</td>\n",
       "      <td>US Military Academy</td>\n",
       "      <td>83.239171</td>\n",
       "      <td>55.1349</td>\n",
       "    </tr>\n",
       "    <tr>\n",
       "      <th>27</th>\n",
       "      <td>John F. Kennedy</td>\n",
       "      <td>3.0</td>\n",
       "      <td>1961</td>\n",
       "      <td>43</td>\n",
       "      <td>Massachusetts</td>\n",
       "      <td>303</td>\n",
       "      <td>34221344</td>\n",
       "      <td>68828960</td>\n",
       "      <td>537</td>\n",
       "      <td>704.0</td>\n",
       "      <td>Democrat</td>\n",
       "      <td>Author</td>\n",
       "      <td>Harvard</td>\n",
       "      <td>56.424581</td>\n",
       "      <td>49.7194</td>\n",
       "    </tr>\n",
       "    <tr>\n",
       "      <th>28</th>\n",
       "      <td>Richard M. Nixon</td>\n",
       "      <td>5.0</td>\n",
       "      <td>1969</td>\n",
       "      <td>56</td>\n",
       "      <td>New York</td>\n",
       "      <td>301</td>\n",
       "      <td>31785148</td>\n",
       "      <td>73203370</td>\n",
       "      <td>538</td>\n",
       "      <td>477.0</td>\n",
       "      <td>Republican</td>\n",
       "      <td>Lawyer</td>\n",
       "      <td>Whittier</td>\n",
       "      <td>55.947955</td>\n",
       "      <td>43.4203</td>\n",
       "    </tr>\n",
       "    <tr>\n",
       "      <th>29</th>\n",
       "      <td>Jimmy Carter</td>\n",
       "      <td>4.0</td>\n",
       "      <td>1977</td>\n",
       "      <td>52</td>\n",
       "      <td>Georgia</td>\n",
       "      <td>297</td>\n",
       "      <td>40830763</td>\n",
       "      <td>81555889</td>\n",
       "      <td>538</td>\n",
       "      <td>518.0</td>\n",
       "      <td>Democrat</td>\n",
       "      <td>Businessman</td>\n",
       "      <td>US Naval Academy</td>\n",
       "      <td>55.204461</td>\n",
       "      <td>50.0648</td>\n",
       "    </tr>\n",
       "    <tr>\n",
       "      <th>30</th>\n",
       "      <td>Ronald Reagan</td>\n",
       "      <td>8.0</td>\n",
       "      <td>1981</td>\n",
       "      <td>69</td>\n",
       "      <td>California</td>\n",
       "      <td>489</td>\n",
       "      <td>43904153</td>\n",
       "      <td>86515221</td>\n",
       "      <td>538</td>\n",
       "      <td>634.0</td>\n",
       "      <td>Republican</td>\n",
       "      <td>Actor</td>\n",
       "      <td>Eureka College</td>\n",
       "      <td>90.892193</td>\n",
       "      <td>50.7473</td>\n",
       "    </tr>\n",
       "    <tr>\n",
       "      <th>31</th>\n",
       "      <td>George Bush</td>\n",
       "      <td>4.0</td>\n",
       "      <td>1989</td>\n",
       "      <td>64</td>\n",
       "      <td>Texas</td>\n",
       "      <td>426</td>\n",
       "      <td>48886097</td>\n",
       "      <td>91584820</td>\n",
       "      <td>538</td>\n",
       "      <td>548.0</td>\n",
       "      <td>Republican</td>\n",
       "      <td>Businessman</td>\n",
       "      <td>Yale</td>\n",
       "      <td>79.182156</td>\n",
       "      <td>53.3779</td>\n",
       "    </tr>\n",
       "    <tr>\n",
       "      <th>32</th>\n",
       "      <td>Bill Clinton</td>\n",
       "      <td>8.0</td>\n",
       "      <td>1993</td>\n",
       "      <td>46</td>\n",
       "      <td>Arkansas</td>\n",
       "      <td>370</td>\n",
       "      <td>44909326</td>\n",
       "      <td>104425014</td>\n",
       "      <td>538</td>\n",
       "      <td>539.0</td>\n",
       "      <td>Democrat</td>\n",
       "      <td>Lawyer</td>\n",
       "      <td>Georgetown</td>\n",
       "      <td>68.773234</td>\n",
       "      <td>43.0063</td>\n",
       "    </tr>\n",
       "    <tr>\n",
       "      <th>33</th>\n",
       "      <td>George W. Bush</td>\n",
       "      <td>8.0</td>\n",
       "      <td>2001</td>\n",
       "      <td>54</td>\n",
       "      <td>Texas</td>\n",
       "      <td>271</td>\n",
       "      <td>50460110</td>\n",
       "      <td>105417258</td>\n",
       "      <td>538</td>\n",
       "      <td>NaN</td>\n",
       "      <td>Republican</td>\n",
       "      <td>Businessman</td>\n",
       "      <td>Yale</td>\n",
       "      <td>50.371747</td>\n",
       "      <td>47.867</td>\n",
       "    </tr>\n",
       "    <tr>\n",
       "      <th>34</th>\n",
       "      <td>Barack Obama</td>\n",
       "      <td>NaN</td>\n",
       "      <td>2009</td>\n",
       "      <td>47</td>\n",
       "      <td>Illinois</td>\n",
       "      <td>365</td>\n",
       "      <td>69492376</td>\n",
       "      <td>129438754</td>\n",
       "      <td>538</td>\n",
       "      <td>NaN</td>\n",
       "      <td>Democrat</td>\n",
       "      <td>Lawyer</td>\n",
       "      <td>Columbia University</td>\n",
       "      <td>67.843866</td>\n",
       "      <td>53.6875</td>\n",
       "    </tr>\n",
       "  </tbody>\n",
       "</table>\n",
       "</div>"
      ],
      "text/plain": [
       "                 President  Years in office  Year first inaugurated  \\\n",
       "0        George Washington              8.0                    1789   \n",
       "1               John Adams              4.0                    1797   \n",
       "2         Thomas Jefferson              8.0                    1801   \n",
       "3            James Madison              8.0                    1809   \n",
       "4             James Monroe              8.0                    1817   \n",
       "5        John Quincy Adams              4.0                    1825   \n",
       "6           Andrew Jackson              8.0                    1829   \n",
       "7        Martin Van Buren               4.0                    1837   \n",
       "8   William Henry Harrison              0.8                    1841   \n",
       "9            James K. Polk              4.0                    1845   \n",
       "10          Zachary Taylor              1.0                    1849   \n",
       "11         Franklin Pierce              4.0                    1853   \n",
       "12          James Buchanan              4.0                    1857   \n",
       "13         Abraham Lincoln              4.0                    1861   \n",
       "14        Ulysses S. Grant              8.0                    1869   \n",
       "15     Rutherford B. Hayes              4.0                    1877   \n",
       "16       James A. Garfield              0.5                    1881   \n",
       "17        Grover Cleveland              4.0                    1885   \n",
       "18       Benjamin Harrison              4.0                    1889   \n",
       "19        Grover Cleveland              4.0                    1893   \n",
       "20        William McKinley              4.0                    1897   \n",
       "21     William Howard Taft              4.0                    1909   \n",
       "22          Woodrow Wilson              8.0                    1913   \n",
       "23       Warren G. Harding              2.0                    1921   \n",
       "24          Herbert Hoover              4.0                    1929   \n",
       "25      Franklin Roosevelt             12.0                    1933   \n",
       "26    Dwight D. Eisenhower              8.0                    1953   \n",
       "27         John F. Kennedy              3.0                    1961   \n",
       "28        Richard M. Nixon              5.0                    1969   \n",
       "29            Jimmy Carter              4.0                    1977   \n",
       "30           Ronald Reagan              8.0                    1981   \n",
       "31             George Bush              4.0                    1989   \n",
       "32            Bill Clinton              8.0                    1993   \n",
       "33          George W. Bush              8.0                    2001   \n",
       "34            Barack Obama              NaN                    2009   \n",
       "\n",
       "    Age at inauguration State elected from  # of electoral votes  \\\n",
       "0                    57           Virginia                    69   \n",
       "1                    61      Massachusetts                   132   \n",
       "2                    57           Virginia                    73   \n",
       "3                    57           Virginia                   122   \n",
       "4                    58           Virginia                   183   \n",
       "5                    57      Massachusetts                    84   \n",
       "6                    61          Tennessee                   178   \n",
       "7                    54           New York                   170   \n",
       "8                    68               Ohio                   234   \n",
       "9                    49          Tennessee                   170   \n",
       "10                   64          Louisiana                   163   \n",
       "11                   48      New Hampshire                   254   \n",
       "12                   65       Pennsylvania                   174   \n",
       "13                   52           Illinois                   180   \n",
       "14                   46           Illinois                   214   \n",
       "15                   54               Ohio                   185   \n",
       "16                   49               Ohio                   214   \n",
       "17                   47           New York                   219   \n",
       "18                   55            Indiana                   233   \n",
       "19                   55           New York                   277   \n",
       "20                   54               Ohio                   271   \n",
       "21                   51               Ohio                   321   \n",
       "22                   56         New Jersey                   435   \n",
       "23                   55               Ohio                   404   \n",
       "24                   54         California                   444   \n",
       "25                   51           New York                   472   \n",
       "26                   62           New York                   442   \n",
       "27                   43      Massachusetts                   303   \n",
       "28                   56           New York                   301   \n",
       "29                   52            Georgia                   297   \n",
       "30                   69         California                   489   \n",
       "31                   64              Texas                   426   \n",
       "32                   46           Arkansas                   370   \n",
       "33                   54              Texas                   271   \n",
       "34                   47           Illinois                   365   \n",
       "\n",
       "   # of popular votes National total votes  Total electoral votes  \\\n",
       "0                NA()                 NA()                     69   \n",
       "1                NA()                 NA()                    139   \n",
       "2                NA()                 NA()                    137   \n",
       "3                NA()                 NA()                    176   \n",
       "4                NA()                 NA()                    221   \n",
       "5                NA()                 NA()                    261   \n",
       "6              642553              1148018                    261   \n",
       "7              764176              1503534                    294   \n",
       "8             1275390              2411808                    294   \n",
       "9             1339494              2703659                    275   \n",
       "10            1361393              2879184                    290   \n",
       "11            1607510              3161830                    296   \n",
       "12            1836072              4054647                    296   \n",
       "13            1865908              4685561                    303   \n",
       "14            3013650              5722440                    294   \n",
       "15            4034311              8413101                    369   \n",
       "16            4446158              9210420                    369   \n",
       "17            4874621             10049754                    401   \n",
       "18            5443892             11383320                    401   \n",
       "19            5551883             12056097                    444   \n",
       "20            7108480             13935738                    447   \n",
       "21            7676258             14882734                    483   \n",
       "22            6293152             15040963                    531   \n",
       "23           16133314             26753786                    531   \n",
       "24           21411991             36790364                    531   \n",
       "25           22825016             39749382                    531   \n",
       "26           33936137             61551118                    531   \n",
       "27           34221344             68828960                    537   \n",
       "28           31785148             73203370                    538   \n",
       "29           40830763             81555889                    538   \n",
       "30           43904153             86515221                    538   \n",
       "31           48886097             91584820                    538   \n",
       "32           44909326            104425014                    538   \n",
       "33           50460110            105417258                    538   \n",
       "34           69492376            129438754                    538   \n",
       "\n",
       "    Rating points        Political Party       Occupation  \\\n",
       "0           842.0                   None          Planter   \n",
       "1           598.0             Federalist           Lawyer   \n",
       "2           711.0  Democratic-Republican  Planter, Lawyer   \n",
       "3           567.0  Democratic-Republican           Lawyer   \n",
       "4           602.0  Democratic-Republican           Lawyer   \n",
       "5           564.0  Democratic-Republican           Lawyer   \n",
       "6           632.0               Democrat           Lawyer   \n",
       "7           429.0               Democrat           Lawyer   \n",
       "8           329.0                   Whig          Soldier   \n",
       "9           632.0               Democrat           Lawyer   \n",
       "10          447.0                   Whig          Soldier   \n",
       "11          286.0               Democrat           Lawyer   \n",
       "12          259.0               Democrat           Lawyer   \n",
       "13          900.0             Republican           Lawyer   \n",
       "14          403.0             Republican          Soldier   \n",
       "15          477.0             Republican           Lawyer   \n",
       "16          444.0             Republican           Lawyer   \n",
       "17          576.0               Democrat           Lawyer   \n",
       "18          426.0             Republican           Lawyer   \n",
       "19          576.0               Democrat           Lawyer   \n",
       "20          601.0             Republican           Lawyer   \n",
       "21          491.0             Republican           Lawyer   \n",
       "22          723.0               Democrat         Educator   \n",
       "23          326.0             Republican           Editor   \n",
       "24          400.0             Republican         Engineer   \n",
       "25          876.0               Democrat           Lawyer   \n",
       "26          699.0             Republican          Soldier   \n",
       "27          704.0               Democrat           Author   \n",
       "28          477.0             Republican           Lawyer   \n",
       "29          518.0               Democrat      Businessman   \n",
       "30          634.0             Republican            Actor   \n",
       "31          548.0             Republican      Businessman   \n",
       "32          539.0               Democrat           Lawyer   \n",
       "33            NaN             Republican      Businessman   \n",
       "34            NaN               Democrat           Lawyer   \n",
       "\n",
       "                 College  % electoral % popular  \n",
       "0                   None   100.000000      NA()  \n",
       "1                Harvard    94.964029      NA()  \n",
       "2       William and Mary    53.284672      NA()  \n",
       "3              Princeton    69.318182      NA()  \n",
       "4       William and Mary    82.805430      NA()  \n",
       "5                Harvard    32.183908      NA()  \n",
       "6                   None    68.199234   55.9706  \n",
       "7                   None    57.823129   50.8253  \n",
       "8         Hampden-Sydney    79.591837   52.8811  \n",
       "9   U. of North Carolina    61.818182   49.5437  \n",
       "10                  None    56.206897    47.284  \n",
       "11               Bowdoin    85.810811   50.8411  \n",
       "12             Dickinson    58.783784   45.2832  \n",
       "13                  None    59.405941   39.8225  \n",
       "14   US Military Academy    72.789116   52.6637  \n",
       "15                Kenyon    50.135501   47.9527  \n",
       "16              Williams    57.994580   48.2731  \n",
       "17                  None    54.613466   48.5049  \n",
       "18                 Miami    58.104738   47.8234  \n",
       "19                  None    62.387387   46.0504  \n",
       "20     Allegheny College    60.626398    51.009  \n",
       "21                  Yale    66.459627   51.5783  \n",
       "22             Princeton    81.920904   41.8401  \n",
       "23                  None    76.082863   60.3029  \n",
       "24              Stanford    83.615819      58.2  \n",
       "25               Harvard    88.888889   57.4223  \n",
       "26   US Military Academy    83.239171   55.1349  \n",
       "27               Harvard    56.424581   49.7194  \n",
       "28              Whittier    55.947955   43.4203  \n",
       "29      US Naval Academy    55.204461   50.0648  \n",
       "30        Eureka College    90.892193   50.7473  \n",
       "31                  Yale    79.182156   53.3779  \n",
       "32            Georgetown    68.773234   43.0063  \n",
       "33                  Yale    50.371747    47.867  \n",
       "34   Columbia University    67.843866   53.6875  "
      ]
     },
     "execution_count": 3,
     "metadata": {},
     "output_type": "execute_result"
    }
   ],
   "source": [
    "df"
   ]
  },
  {
   "cell_type": "code",
   "execution_count": 4,
   "metadata": {
    "scrolled": true
   },
   "outputs": [
    {
     "data": {
      "text/plain": [
       "Republican               14\n",
       "Democrat                 13\n",
       "Democratic-Republican     4\n",
       "Whig                      2\n",
       "None                      1\n",
       "Federalist                1\n",
       "Name: Political Party, dtype: int64"
      ]
     },
     "execution_count": 4,
     "metadata": {},
     "output_type": "execute_result"
    }
   ],
   "source": [
    "df['Political Party'].value_counts() #공통된것들을 다 더해서 보여줌\n",
    "#Political Party 안에 있는 값들"
   ]
  },
  {
   "cell_type": "code",
   "execution_count": 5,
   "metadata": {},
   "outputs": [
    {
     "data": {
      "text/plain": [
       "54    5\n",
       "57    4\n",
       "55    3\n",
       "49    2\n",
       "51    2\n",
       "46    2\n",
       "47    2\n",
       "61    2\n",
       "64    2\n",
       "52    2\n",
       "56    2\n",
       "48    1\n",
       "58    1\n",
       "43    1\n",
       "69    1\n",
       "68    1\n",
       "65    1\n",
       "62    1\n",
       "Name: Age at inauguration, dtype: int64"
      ]
     },
     "execution_count": 5,
     "metadata": {},
     "output_type": "execute_result"
    }
   ],
   "source": [
    "df['Age at inauguration'].value_counts()"
   ]
  },
  {
   "cell_type": "code",
   "execution_count": 6,
   "metadata": {},
   "outputs": [
    {
     "name": "stdout",
     "output_type": "stream",
     "text": [
      "0                      None\n",
      "1                Federalist\n",
      "2     Democratic-Republican\n",
      "3     Democratic-Republican\n",
      "4     Democratic-Republican\n",
      "5     Democratic-Republican\n",
      "6                  Democrat\n",
      "7                  Democrat\n",
      "8                      Whig\n",
      "9                  Democrat\n",
      "10                     Whig\n",
      "11                 Democrat\n",
      "12                 Democrat\n",
      "13               Republican\n",
      "14               Republican\n",
      "15               Republican\n",
      "16               Republican\n",
      "17                 Democrat\n",
      "18               Republican\n",
      "19                 Democrat\n",
      "20               Republican\n",
      "21               Republican\n",
      "22                 Democrat\n",
      "23               Republican\n",
      "24               Republican\n",
      "25                 Democrat\n",
      "26               Republican\n",
      "27                 Democrat\n",
      "28               Republican\n",
      "29                 Democrat\n",
      "30               Republican\n",
      "31               Republican\n",
      "32                 Democrat\n",
      "33               Republican\n",
      "34                 Democrat\n",
      "Name: Political Party, dtype: object\n"
     ]
    }
   ],
   "source": [
    "print(df['Political Party'])"
   ]
  },
  {
   "cell_type": "code",
   "execution_count": 7,
   "metadata": {},
   "outputs": [
    {
     "data": {
      "text/plain": [
       "<matplotlib.axes._subplots.AxesSubplot at 0x7805e50>"
      ]
     },
     "execution_count": 7,
     "metadata": {},
     "output_type": "execute_result"
    },
    {
     "data": {
      "image/png": "[encoded data removed]",
      "text/plain": [
       "<Figure size 432x288 with 1 Axes>"
      ]
     },
     "metadata": {},
     "output_type": "display_data"
    }
   ],
   "source": [
    "#import matlpotlib.pyplot as plt 같은거\n",
    "%matplotlib inline\n",
    "\n",
    "df['Political Party'].value_counts().plot(kind=\"pie\")"
   ]
  },
  {
   "cell_type": "code",
   "execution_count": 8,
   "metadata": {
    "scrolled": true
   },
   "outputs": [
    {
     "data": {
      "text/plain": [
       "<matplotlib.axes._subplots.AxesSubplot at 0x7887e90>"
      ]
     },
     "execution_count": 8,
     "metadata": {},
     "output_type": "execute_result"
    },
    {
     "data": {
      "image/png": "[encoded data removed]",
      "text/plain": [
       "<Figure size 432x288 with 1 Axes>"
      ]
     },
     "metadata": {},
     "output_type": "display_data"
    }
   ],
   "source": [
    "df['Political Party'].value_counts().plot(kind=\"bar\")"
   ]
  },
  {
   "cell_type": "code",
   "execution_count": 10,
   "metadata": {
    "scrolled": true
   },
   "outputs": [
    {
     "data": {
      "text/plain": [
       "<matplotlib.axes._subplots.AxesSubplot at 0x8eb94b0>"
      ]
     },
     "execution_count": 10,
     "metadata": {},
     "output_type": "execute_result"
    },
    {
     "data": {
      "image/png": "[encoded data removed]",
      "text/plain": [
       "<Figure size 432x288 with 1 Axes>"
      ]
     },
     "metadata": {},
     "output_type": "display_data"
    }
   ],
   "source": [
    "df['College'].value_counts().plot(kind=\"bar\")"
   ]
  },
  {
   "cell_type": "code",
   "execution_count": 11,
   "metadata": {},
   "outputs": [
    {
     "data": {
      "text/plain": [
       "<matplotlib.axes._subplots.AxesSubplot at 0x16293b0>"
      ]
     },
     "execution_count": 11,
     "metadata": {},
     "output_type": "execute_result"
    },
    {
     "data": {
      "image/png": "[encoded data removed]",
      "text/plain": [
       "<Figure size 432x288 with 1 Axes>"
      ]
     },
     "metadata": {},
     "output_type": "display_data"
    }
   ],
   "source": [
    "df['Occupation'].value_counts().plot(kind=\"bar\")"
   ]
  },
  {
   "cell_type": "code",
   "execution_count": 13,
   "metadata": {},
   "outputs": [],
   "source": [
    "import matplotlib.pyplot as plt\n",
    "import pandas as pd\n",
    "from sklearn.datasets import load_iris"
   ]
  },
  {
   "cell_type": "code",
   "execution_count": 14,
   "metadata": {},
   "outputs": [],
   "source": [
    "iris = load_iris()\n",
    "X, y = iris.data, iris.target"
   ]
  },
  {
   "cell_type": "code",
   "execution_count": 15,
   "metadata": {},
   "outputs": [
    {
     "name": "stdout",
     "output_type": "stream",
     "text": [
      "[0 0 0 0 0 0 0 0 0 0 0 0 0 0 0 0 0 0 0 0 0 0 0 0 0 0 0 0 0 0 0 0 0 0 0 0 0\n",
      " 0 0 0 0 0 0 0 0 0 0 0 0 0 1 1 1 1 1 1 1 1 1 1 1 1 1 1 1 1 1 1 1 1 1 1 1 1\n",
      " 1 1 1 1 1 1 1 1 1 1 1 1 1 1 1 1 1 1 1 1 1 1 1 1 1 1 2 2 2 2 2 2 2 2 2 2 2\n",
      " 2 2 2 2 2 2 2 2 2 2 2 2 2 2 2 2 2 2 2 2 2 2 2 2 2 2 2 2 2 2 2 2 2 2 2 2 2\n",
      " 2 2]\n"
     ]
    }
   ],
   "source": [
    "print(y) #target 개수"
   ]
  },
  {
   "cell_type": "code",
   "execution_count": 16,
   "metadata": {},
   "outputs": [
    {
     "name": "stdout",
     "output_type": "stream",
     "text": [
      "['sepal length (cm)', 'sepal width (cm)', 'petal length (cm)', 'petal width (cm)']\n"
     ]
    }
   ],
   "source": [
    "print(iris.feature_names)"
   ]
  },
  {
   "cell_type": "code",
   "execution_count": 17,
   "metadata": {},
   "outputs": [
    {
     "name": "stdout",
     "output_type": "stream",
     "text": [
      "[[5.1 3.5 1.4 0.2]\n",
      " [4.9 3.  1.4 0.2]\n",
      " [4.7 3.2 1.3 0.2]\n",
      " [4.6 3.1 1.5 0.2]\n",
      " [5.  3.6 1.4 0.2]\n",
      " [5.4 3.9 1.7 0.4]\n",
      " [4.6 3.4 1.4 0.3]\n",
      " [5.  3.4 1.5 0.2]\n",
      " [4.4 2.9 1.4 0.2]\n",
      " [4.9 3.1 1.5 0.1]\n",
      " [5.4 3.7 1.5 0.2]\n",
      " [4.8 3.4 1.6 0.2]\n",
      " [4.8 3.  1.4 0.1]\n",
      " [4.3 3.  1.1 0.1]\n",
      " [5.8 4.  1.2 0.2]\n",
      " [5.7 4.4 1.5 0.4]\n",
      " [5.4 3.9 1.3 0.4]\n",
      " [5.1 3.5 1.4 0.3]\n",
      " [5.7 3.8 1.7 0.3]\n",
      " [5.1 3.8 1.5 0.3]\n",
      " [5.4 3.4 1.7 0.2]\n",
      " [5.1 3.7 1.5 0.4]\n",
      " [4.6 3.6 1.  0.2]\n",
      " [5.1 3.3 1.7 0.5]\n",
      " [4.8 3.4 1.9 0.2]\n",
      " [5.  3.  1.6 0.2]\n",
      " [5.  3.4 1.6 0.4]\n",
      " [5.2 3.5 1.5 0.2]\n",
      " [5.2 3.4 1.4 0.2]\n",
      " [4.7 3.2 1.6 0.2]\n",
      " [4.8 3.1 1.6 0.2]\n",
      " [5.4 3.4 1.5 0.4]\n",
      " [5.2 4.1 1.5 0.1]\n",
      " [5.5 4.2 1.4 0.2]\n",
      " [4.9 3.1 1.5 0.1]\n",
      " [5.  3.2 1.2 0.2]\n",
      " [5.5 3.5 1.3 0.2]\n",
      " [4.9 3.1 1.5 0.1]\n",
      " [4.4 3.  1.3 0.2]\n",
      " [5.1 3.4 1.5 0.2]\n",
      " [5.  3.5 1.3 0.3]\n",
      " [4.5 2.3 1.3 0.3]\n",
      " [4.4 3.2 1.3 0.2]\n",
      " [5.  3.5 1.6 0.6]\n",
      " [5.1 3.8 1.9 0.4]\n",
      " [4.8 3.  1.4 0.3]\n",
      " [5.1 3.8 1.6 0.2]\n",
      " [4.6 3.2 1.4 0.2]\n",
      " [5.3 3.7 1.5 0.2]\n",
      " [5.  3.3 1.4 0.2]\n",
      " [7.  3.2 4.7 1.4]\n",
      " [6.4 3.2 4.5 1.5]\n",
      " [6.9 3.1 4.9 1.5]\n",
      " [5.5 2.3 4.  1.3]\n",
      " [6.5 2.8 4.6 1.5]\n",
      " [5.7 2.8 4.5 1.3]\n",
      " [6.3 3.3 4.7 1.6]\n",
      " [4.9 2.4 3.3 1. ]\n",
      " [6.6 2.9 4.6 1.3]\n",
      " [5.2 2.7 3.9 1.4]\n",
      " [5.  2.  3.5 1. ]\n",
      " [5.9 3.  4.2 1.5]\n",
      " [6.  2.2 4.  1. ]\n",
      " [6.1 2.9 4.7 1.4]\n",
      " [5.6 2.9 3.6 1.3]\n",
      " [6.7 3.1 4.4 1.4]\n",
      " [5.6 3.  4.5 1.5]\n",
      " [5.8 2.7 4.1 1. ]\n",
      " [6.2 2.2 4.5 1.5]\n",
      " [5.6 2.5 3.9 1.1]\n",
      " [5.9 3.2 4.8 1.8]\n",
      " [6.1 2.8 4.  1.3]\n",
      " [6.3 2.5 4.9 1.5]\n",
      " [6.1 2.8 4.7 1.2]\n",
      " [6.4 2.9 4.3 1.3]\n",
      " [6.6 3.  4.4 1.4]\n",
      " [6.8 2.8 4.8 1.4]\n",
      " [6.7 3.  5.  1.7]\n",
      " [6.  2.9 4.5 1.5]\n",
      " [5.7 2.6 3.5 1. ]\n",
      " [5.5 2.4 3.8 1.1]\n",
      " [5.5 2.4 3.7 1. ]\n",
      " [5.8 2.7 3.9 1.2]\n",
      " [6.  2.7 5.1 1.6]\n",
      " [5.4 3.  4.5 1.5]\n",
      " [6.  3.4 4.5 1.6]\n",
      " [6.7 3.1 4.7 1.5]\n",
      " [6.3 2.3 4.4 1.3]\n",
      " [5.6 3.  4.1 1.3]\n",
      " [5.5 2.5 4.  1.3]\n",
      " [5.5 2.6 4.4 1.2]\n",
      " [6.1 3.  4.6 1.4]\n",
      " [5.8 2.6 4.  1.2]\n",
      " [5.  2.3 3.3 1. ]\n",
      " [5.6 2.7 4.2 1.3]\n",
      " [5.7 3.  4.2 1.2]\n",
      " [5.7 2.9 4.2 1.3]\n",
      " [6.2 2.9 4.3 1.3]\n",
      " [5.1 2.5 3.  1.1]\n",
      " [5.7 2.8 4.1 1.3]\n",
      " [6.3 3.3 6.  2.5]\n",
      " [5.8 2.7 5.1 1.9]\n",
      " [7.1 3.  5.9 2.1]\n",
      " [6.3 2.9 5.6 1.8]\n",
      " [6.5 3.  5.8 2.2]\n",
      " [7.6 3.  6.6 2.1]\n",
      " [4.9 2.5 4.5 1.7]\n",
      " [7.3 2.9 6.3 1.8]\n",
      " [6.7 2.5 5.8 1.8]\n",
      " [7.2 3.6 6.1 2.5]\n",
      " [6.5 3.2 5.1 2. ]\n",
      " [6.4 2.7 5.3 1.9]\n",
      " [6.8 3.  5.5 2.1]\n",
      " [5.7 2.5 5.  2. ]\n",
      " [5.8 2.8 5.1 2.4]\n",
      " [6.4 3.2 5.3 2.3]\n",
      " [6.5 3.  5.5 1.8]\n",
      " [7.7 3.8 6.7 2.2]\n",
      " [7.7 2.6 6.9 2.3]\n",
      " [6.  2.2 5.  1.5]\n",
      " [6.9 3.2 5.7 2.3]\n",
      " [5.6 2.8 4.9 2. ]\n",
      " [7.7 2.8 6.7 2. ]\n",
      " [6.3 2.7 4.9 1.8]\n",
      " [6.7 3.3 5.7 2.1]\n",
      " [7.2 3.2 6.  1.8]\n",
      " [6.2 2.8 4.8 1.8]\n",
      " [6.1 3.  4.9 1.8]\n",
      " [6.4 2.8 5.6 2.1]\n",
      " [7.2 3.  5.8 1.6]\n",
      " [7.4 2.8 6.1 1.9]\n",
      " [7.9 3.8 6.4 2. ]\n",
      " [6.4 2.8 5.6 2.2]\n",
      " [6.3 2.8 5.1 1.5]\n",
      " [6.1 2.6 5.6 1.4]\n",
      " [7.7 3.  6.1 2.3]\n",
      " [6.3 3.4 5.6 2.4]\n",
      " [6.4 3.1 5.5 1.8]\n",
      " [6.  3.  4.8 1.8]\n",
      " [6.9 3.1 5.4 2.1]\n",
      " [6.7 3.1 5.6 2.4]\n",
      " [6.9 3.1 5.1 2.3]\n",
      " [5.8 2.7 5.1 1.9]\n",
      " [6.8 3.2 5.9 2.3]\n",
      " [6.7 3.3 5.7 2.5]\n",
      " [6.7 3.  5.2 2.3]\n",
      " [6.3 2.5 5.  1.9]\n",
      " [6.5 3.  5.2 2. ]\n",
      " [6.2 3.4 5.4 2.3]\n",
      " [5.9 3.  5.1 1.8]]\n"
     ]
    }
   ],
   "source": [
    "print(X)"
   ]
  },
  {
   "cell_type": "code",
   "execution_count": 18,
   "metadata": {},
   "outputs": [],
   "source": [
    "iris_df = pd.DataFrame(X, columns=list(iris.feature_names))\n"
   ]
  },
  {
   "cell_type": "code",
   "execution_count": 19,
   "metadata": {},
   "outputs": [
    {
     "name": "stdout",
     "output_type": "stream",
     "text": [
      "       sepal length (cm)  sepal width (cm)  petal length (cm)  \\\n",
      "count         150.000000        150.000000         150.000000   \n",
      "mean            5.843333          3.054000           3.758667   \n",
      "std             0.828066          0.433594           1.764420   \n",
      "min             4.300000          2.000000           1.000000   \n",
      "25%             5.100000          2.800000           1.600000   \n",
      "50%             5.800000          3.000000           4.350000   \n",
      "75%             6.400000          3.300000           5.100000   \n",
      "max             7.900000          4.400000           6.900000   \n",
      "\n",
      "       petal width (cm)  \n",
      "count        150.000000  \n",
      "mean           1.198667  \n",
      "std            0.763161  \n",
      "min            0.100000  \n",
      "25%            0.300000  \n",
      "50%            1.300000  \n",
      "75%            1.800000  \n",
      "max            2.500000  \n",
      "     sepal length (cm)  sepal width (cm)  petal length (cm)  petal width (cm)\n",
      "0                  5.1               3.5                1.4               0.2\n",
      "1                  4.9               3.0                1.4               0.2\n",
      "2                  4.7               3.2                1.3               0.2\n",
      "3                  4.6               3.1                1.5               0.2\n",
      "4                  5.0               3.6                1.4               0.2\n",
      "5                  5.4               3.9                1.7               0.4\n",
      "6                  4.6               3.4                1.4               0.3\n",
      "7                  5.0               3.4                1.5               0.2\n",
      "8                  4.4               2.9                1.4               0.2\n",
      "9                  4.9               3.1                1.5               0.1\n",
      "10                 5.4               3.7                1.5               0.2\n",
      "11                 4.8               3.4                1.6               0.2\n",
      "12                 4.8               3.0                1.4               0.1\n",
      "13                 4.3               3.0                1.1               0.1\n",
      "14                 5.8               4.0                1.2               0.2\n",
      "15                 5.7               4.4                1.5               0.4\n",
      "16                 5.4               3.9                1.3               0.4\n",
      "17                 5.1               3.5                1.4               0.3\n",
      "18                 5.7               3.8                1.7               0.3\n",
      "19                 5.1               3.8                1.5               0.3\n",
      "20                 5.4               3.4                1.7               0.2\n",
      "21                 5.1               3.7                1.5               0.4\n",
      "22                 4.6               3.6                1.0               0.2\n",
      "23                 5.1               3.3                1.7               0.5\n",
      "24                 4.8               3.4                1.9               0.2\n",
      "25                 5.0               3.0                1.6               0.2\n",
      "26                 5.0               3.4                1.6               0.4\n",
      "27                 5.2               3.5                1.5               0.2\n",
      "28                 5.2               3.4                1.4               0.2\n",
      "29                 4.7               3.2                1.6               0.2\n",
      "..                 ...               ...                ...               ...\n",
      "120                6.9               3.2                5.7               2.3\n",
      "121                5.6               2.8                4.9               2.0\n",
      "122                7.7               2.8                6.7               2.0\n",
      "123                6.3               2.7                4.9               1.8\n",
      "124                6.7               3.3                5.7               2.1\n",
      "125                7.2               3.2                6.0               1.8\n",
      "126                6.2               2.8                4.8               1.8\n",
      "127                6.1               3.0                4.9               1.8\n",
      "128                6.4               2.8                5.6               2.1\n",
      "129                7.2               3.0                5.8               1.6\n",
      "130                7.4               2.8                6.1               1.9\n",
      "131                7.9               3.8                6.4               2.0\n",
      "132                6.4               2.8                5.6               2.2\n",
      "133                6.3               2.8                5.1               1.5\n",
      "134                6.1               2.6                5.6               1.4\n",
      "135                7.7               3.0                6.1               2.3\n",
      "136                6.3               3.4                5.6               2.4\n",
      "137                6.4               3.1                5.5               1.8\n",
      "138                6.0               3.0                4.8               1.8\n",
      "139                6.9               3.1                5.4               2.1\n",
      "140                6.7               3.1                5.6               2.4\n",
      "141                6.9               3.1                5.1               2.3\n",
      "142                5.8               2.7                5.1               1.9\n",
      "143                6.8               3.2                5.9               2.3\n",
      "144                6.7               3.3                5.7               2.5\n",
      "145                6.7               3.0                5.2               2.3\n",
      "146                6.3               2.5                5.0               1.9\n",
      "147                6.5               3.0                5.2               2.0\n",
      "148                6.2               3.4                5.4               2.3\n",
      "149                5.9               3.0                5.1               1.8\n",
      "\n",
      "[150 rows x 4 columns]\n",
      "[0 0 0 0 0 0 0 0 0 0 0 0 0 0 0 0 0 0 0 0 0 0 0 0 0 0 0 0 0 0 0 0 0 0 0 0 0\n",
      " 0 0 0 0 0 0 0 0 0 0 0 0 0 1 1 1 1 1 1 1 1 1 1 1 1 1 1 1 1 1 1 1 1 1 1 1 1\n",
      " 1 1 1 1 1 1 1 1 1 1 1 1 1 1 1 1 1 1 1 1 1 1 1 1 1 1 2 2 2 2 2 2 2 2 2 2 2\n",
      " 2 2 2 2 2 2 2 2 2 2 2 2 2 2 2 2 2 2 2 2 2 2 2 2 2 2 2 2 2 2 2 2 2 2 2 2 2\n",
      " 2 2]\n",
      "150\n"
     ]
    }
   ],
   "source": [
    "print(iris_df.describe())\n",
    "print(iris_df)\n",
    "print(iris.target) #라벨을 붙임\n",
    "print(len(iris.target))"
   ]
  },
  {
   "cell_type": "code",
   "execution_count": 20,
   "metadata": {},
   "outputs": [
    {
     "data": {
      "text/plain": [
       "<matplotlib.axes._subplots.AxesSubplot at 0x96d0d10>"
      ]
     },
     "execution_count": 20,
     "metadata": {},
     "output_type": "execute_result"
    },
    {
     "data": {
      "image/png": "[encoded data removed]",
      "text/plain": [
       "<Figure size 432x288 with 1 Axes>"
      ]
     },
     "metadata": {},
     "output_type": "display_data"
    }
   ],
   "source": [
    "iris_df.boxplot()"
   ]
  },
  {
   "cell_type": "code",
   "execution_count": 21,
   "metadata": {},
   "outputs": [
    {
     "data": {
      "text/plain": [
       "<matplotlib.axes._subplots.AxesSubplot at 0x18585d0>"
      ]
     },
     "execution_count": 21,
     "metadata": {},
     "output_type": "execute_result"
    },
    {
     "data": {
      "image/png": "[encoded data removed]",
      "text/plain": [
       "<Figure size 432x288 with 1 Axes>"
      ]
     },
     "metadata": {},
     "output_type": "display_data"
    }
   ],
   "source": [
    "iris_df.plot()"
   ]
  },
  {
   "cell_type": "code",
   "execution_count": 23,
   "metadata": {},
   "outputs": [
    {
     "data": {
      "image/png": "[encoded data removed]",
      "text/plain": [
       "<Figure size 432x288 with 1 Axes>"
      ]
     },
     "metadata": {},
     "output_type": "display_data"
    },
    {
     "name": "stdout",
     "output_type": "stream",
     "text": [
      "[0 0 0 0 0 0 0 0 0 0 0 0 0 0 0 0 0 0 0 0 0 0 0 0 0 0 0 0 0 0 0 0 0 0 0 0 0\n",
      " 0 0 0 0 0 0 0 0 0 0 0 0 0 1 1 1 1 1 1 1 1 1 1 1 1 1 1 1 1 1 1 1 1 1 1 1 1\n",
      " 1 1 1 1 1 1 1 1 1 1 1 1 1 1 1 1 1 1 1 1 1 1 1 1 1 1 2 2 2 2 2 2 2 2 2 2 2\n",
      " 2 2 2 2 2 2 2 2 2 2 2 2 2 2 2 2 2 2 2 2 2 2 2 2 2 2 2 2 2 2 2 2 2 2 2 2 2\n",
      " 2 2]\n"
     ]
    }
   ],
   "source": [
    "plt.scatter(iris_df['sepal length (cm)'], iris_df['sepal width (cm)'], c=y) #c=color\n",
    "plt.show()\n",
    "print(y)"
   ]
  },
  {
   "cell_type": "code",
   "execution_count": null,
   "metadata": {},
   "outputs": [],
   "source": []
  },
  {
   "cell_type": "code",
   "execution_count": null,
   "metadata": {},
   "outputs": [],
   "source": []
  },
  {
   "cell_type": "code",
   "execution_count": null,
   "metadata": {},
   "outputs": [],
   "source": []
  },
  {
   "cell_type": "code",
   "execution_count": null,
   "metadata": {},
   "outputs": [],
   "source": []
  },
  {
   "cell_type": "code",
   "execution_count": null,
   "metadata": {},
   "outputs": [],
   "source": []
  },
  {
   "cell_type": "code",
   "execution_count": null,
   "metadata": {},
   "outputs": [],
   "source": []
  },
  {
   "cell_type": "code",
   "execution_count": null,
   "metadata": {},
   "outputs": [],
   "source": []
  }
 ],
 "metadata": {
  "kernelspec": {
   "display_name": "Python 3",
   "language": "python",
   "name": "python3"
  },
  "language_info": {
   "codemirror_mode": {
    "name": "ipython",
    "version": 3
   },
   "file_extension": ".py",
   "mimetype": "text/x-python",
   "name": "python",
   "nbconvert_exporter": "python",
   "pygments_lexer": "ipython3",
   "version": "3.6.5"
  }
 },
 "nbformat": 4,
 "nbformat_minor": 2
}
